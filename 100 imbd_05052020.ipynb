{
 "cells": [
  {
   "cell_type": "code",
   "execution_count": null,
   "metadata": {},
   "outputs": [],
   "source": [
    "\"## Table of Contents\n",
    "\n",
    "    1. [Problem Statement](#section1)<br>\n",
    "\n",
    "    2. [Background](#section2)<br>\n",
    "\n",
    "    3. [Preparing the data for analysis](#section3) <br>\n",
    "\n",
    "     -  3.1 [Examining the dataset](#section301)<br>\n",
    "\n",
    "        -  3.2 [Pre-profiling](#section302)<br>\n",
    "\n",
    "        -  3.3 [Pre-processing](#section303)<br>\n",
    "\n",
    "        -  3.4 [Post-profiling](#section304)<br>\n",
    "\n",
    "        -  3.5 [Checking for incorrect datatypes](#section305)<br>\n",
    "\n",
    "    4. [Questions and EDA](#section4)<br>\n",
    "\n",
    "    - 4.1 [Find out the impact of directors on the movie](#section401)<br>\n",
    "\n",
    "        - 4.1.1 [Does a particular director's movies receive higher Revenue ?](#section4011)<br>\n",
    "\n",
    "        - 4.1.2 [Does a particular director's movies receive higher IMDB Rating ?](#section4012)<br>\n",
    "\n",
    "        - 4.1.3 [Does a particular director's movies receive higher Metacritic score ?](#section4013)<br>\n",
    "        \n",
    "        - 4.1.4 [Determine how much revenue each of these top 10 directors' films brought in (as a sum for each director) in millions](#section4014)<br>\n",
    "\n",
    "    - 4.2 [How does the runtime of movies affect them?](#section402)<br>\n",
    "\n",
    "        - 4.2.1 [Which interval of Runtime receives higher revenue ? ](#section4021) <br>\n",
    "\n",
    "    - 4.3 [How does the Genre of a movie affect the outcome of the movie ?](#section403)<br>\n",
    "\n",
    "       -4.3.1 [Does the total number of Genres in the movie affect the revenue, popularity, critical acclaim of the movie ?](#section4031)<br>\n",
    "\n",
    "    - 4.3.2 [What are the Genres that that bring higher Revenue, higher rating and higher critical acclaim for a movie ?](#section4032)<br>\n",
    "    \n",
    "    - 4.3.3 [Taking a sum of the total movies made from the top 5 genres,which contributed to the most in terms of movies made?](#section4033)<br>\n",
    "\n",
    "\n",
    "   - 4.4 [Is the growth of the movie industry on the rise ?](#section404)<br>\n",
    "   \n",
    "      - 4.4.1 [Is the number of movies increasing over the years ?](#section4041)<br>\n",
    "\n",
    "      - 4.4.2 [Is the revenue from movies increasing over the years ?](#section4042)<br>\n",
    "     \n",
    "     - 4.4.3 [Is the popularity of the movies increasing over the years?](#section4043)<br>\n",
    "\n",
    " -4.5 [What is the relationship between Revenue, Rating anfd Metascore of movies ?](#section405)<br>\n",
    "  \n",
    "5. [Conclusion](#section5)<br>\n",
    "\n",
    "6. [Actionable Insights](#section6)<br>  \n"
   ]
  },
  {
   "cell_type": "markdown",
   "metadata": {},
   "source": [
    "<a id=section1></a>\n",
    "## 1. Problem Statement\n",
    " \n",
    "In 2017, a certain production company, ABC decides to produce movies that will earn the best in terms of revenue, popularity and acclaim. This company approaches agency, XYZ and asks them to come up with characteristics of movies that will help them achieve their purpose. Agency gives the task to Nitin. He is given the IMDB database of 1000 movies for the last 10 years (2006-2016). His task is come up with the characteristics of movies that earn:\n",
    "    1. The Highest Revenue\n",
    "    2. Popularity (IMDB Rating)\n",
    "    3. Critical Acclaim (Metacritic Rating)\n",
    "    \n",
    "The production company also wants to know whether this is the right time to invest in the movie industry and what strategy they should use to maximize benefits.\" \n"
   ]
  },
  {
   "cell_type": "markdown",
   "metadata": {},
   "source": [
    "<a id=section2></a>\n",
    "## 2. Background\n",
    "The dataset is taken from the IMDB database. It contains data of 1000 most popular movies(by IMDB rating) for the period 2006-2016.\n",
    "IMDB (Internet Movie Database) is an online database of information related to films, television programs, home videos and video games, and internet streams, including cast, production crew and personnel biographies, plot summaries, trivia, and fan reviews and ratings.\n",
    "Users registered on this site are invited to rate any film on a scale of 1 to 10, and the totals are converted into a weighted mean-rating that is displayed beside each title.\n",
    "It also displays the Metascore of each title. Metascore is the rating given by another movie rating company called Metacritic. However, unlike IMDB, they get ratings from registered well known rating agencies and calculates a weighted average of those ratings.\n",
    "Below is the data dictionary explaining the various columns of the dataset.\n",
    "    | Columns              | Description     |\n",
    "    |---------             |-----------------|\n",
    "    |   Rank               | Movie rank order|\n",
    "    | Title                |The title of the film|\n",
    "    |Genre                 | A comma-separated list of genres used to classify the film|\n",
    "    |Description           |Brief one-sentence movie summary|\n",
    "    |Director              |The name of the film's director|\n",
    "    |Actors                |A comma-separated list of the main stars of the film|\n",
    "    |Year                  |The year that the film released as an integer.|\n",
    "    |Runtime (Minutes)     |The duration of the film in minutes.|\n",
    "    |Rating                |User rating for the movie 0-10|\n",
    "    |Votes                 |Number of votes|\n",
    "    |Revenue (Millions)    | Movie revenue in millions|\n",
    "    |Metascore             |An aggregated average of critic scores. Values are between 0 and 100. Higher scores represent     positive reviews.|"
   ]
  },
  {
   "cell_type": "markdown",
   "metadata": {},
   "source": [
    "<a id=section3></a>\n",
    "## 3. Preparing the data for analysis"
   ]
  },
  {
   "cell_type": "code",
   "execution_count": null,
   "metadata": {},
   "outputs": [],
   "source": [
    "In this section, we are going to<b> Wrangle<b> the dataset. This involves Gathering, Assessing and Cleaning the data."
   ]
  },
  {
   "cell_type": "code",
   "execution_count": 3,
   "metadata": {},
   "outputs": [],
   "source": [
    "#Import the required packages \n",
    "import pandas as pd \n",
    "import numpy as np\n",
    "import matplotlib.pyplot as plt\n",
    "import seaborn as sns\n",
    "%matplotlib inline \n",
    "import warnings \n",
    "warnings.filterwarnings('ignore')"
   ]
  },
  {
   "cell_type": "code",
   "execution_count": 4,
   "metadata": {},
   "outputs": [],
   "source": [
    "#Read the data into Pandas DataFrame\n",
    "movies = pd.read_csv('https://raw.githubusercontent.com/koyeliaghosh/Term-1/master/Data/Projects/1000%20movies%20data.csv')"
   ]
  },
  {
   "cell_type": "code",
   "execution_count": null,
   "metadata": {},
   "outputs": [],
   "source": [
    "<a id=section301></a>\n",
    "#### Examining the Dataset ####"
   ]
  },
  {
   "cell_type": "code",
   "execution_count": 5,
   "metadata": {},
   "outputs": [
    {
     "data": {
      "text/html": [
       "<div>\n",
       "<table border=\"1\" class=\"dataframe\">\n",
       "  <thead>\n",
       "    <tr style=\"text-align: right;\">\n",
       "      <th></th>\n",
       "      <th>Rank</th>\n",
       "      <th>Title</th>\n",
       "      <th>Genre</th>\n",
       "      <th>Description</th>\n",
       "      <th>Director</th>\n",
       "      <th>Actors</th>\n",
       "      <th>Year</th>\n",
       "      <th>Runtime (Minutes)</th>\n",
       "      <th>Rating</th>\n",
       "      <th>Votes</th>\n",
       "      <th>Revenue (Millions)</th>\n",
       "      <th>Metascore</th>\n",
       "    </tr>\n",
       "  </thead>\n",
       "  <tbody>\n",
       "    <tr>\n",
       "      <th>0</th>\n",
       "      <td>1</td>\n",
       "      <td>Guardians of the Galaxy</td>\n",
       "      <td>Action,Adventure,Sci-Fi</td>\n",
       "      <td>A group of intergalactic criminals are forced ...</td>\n",
       "      <td>James Gunn</td>\n",
       "      <td>Chris Pratt, Vin Diesel, Bradley Cooper, Zoe S...</td>\n",
       "      <td>2014</td>\n",
       "      <td>121</td>\n",
       "      <td>8.1</td>\n",
       "      <td>757074</td>\n",
       "      <td>333.13</td>\n",
       "      <td>76.0</td>\n",
       "    </tr>\n",
       "    <tr>\n",
       "      <th>1</th>\n",
       "      <td>2</td>\n",
       "      <td>Prometheus</td>\n",
       "      <td>Adventure,Mystery,Sci-Fi</td>\n",
       "      <td>Following clues to the origin of mankind, a te...</td>\n",
       "      <td>Ridley Scott</td>\n",
       "      <td>Noomi Rapace, Logan Marshall-Green, Michael Fa...</td>\n",
       "      <td>2012</td>\n",
       "      <td>124</td>\n",
       "      <td>7.0</td>\n",
       "      <td>485820</td>\n",
       "      <td>126.46</td>\n",
       "      <td>65.0</td>\n",
       "    </tr>\n",
       "    <tr>\n",
       "      <th>2</th>\n",
       "      <td>3</td>\n",
       "      <td>Split</td>\n",
       "      <td>Horror,Thriller</td>\n",
       "      <td>Three girls are kidnapped by a man with a diag...</td>\n",
       "      <td>M. Night Shyamalan</td>\n",
       "      <td>James McAvoy, Anya Taylor-Joy, Haley Lu Richar...</td>\n",
       "      <td>2016</td>\n",
       "      <td>117</td>\n",
       "      <td>7.3</td>\n",
       "      <td>157606</td>\n",
       "      <td>138.12</td>\n",
       "      <td>62.0</td>\n",
       "    </tr>\n",
       "    <tr>\n",
       "      <th>3</th>\n",
       "      <td>4</td>\n",
       "      <td>Sing</td>\n",
       "      <td>Animation,Comedy,Family</td>\n",
       "      <td>In a city of humanoid animals, a hustling thea...</td>\n",
       "      <td>Christophe Lourdelet</td>\n",
       "      <td>Matthew McConaughey,Reese Witherspoon, Seth Ma...</td>\n",
       "      <td>2016</td>\n",
       "      <td>108</td>\n",
       "      <td>7.2</td>\n",
       "      <td>60545</td>\n",
       "      <td>270.32</td>\n",
       "      <td>59.0</td>\n",
       "    </tr>\n",
       "    <tr>\n",
       "      <th>4</th>\n",
       "      <td>5</td>\n",
       "      <td>Suicide Squad</td>\n",
       "      <td>Action,Adventure,Fantasy</td>\n",
       "      <td>A secret government agency recruits some of th...</td>\n",
       "      <td>David Ayer</td>\n",
       "      <td>Will Smith, Jared Leto, Margot Robbie, Viola D...</td>\n",
       "      <td>2016</td>\n",
       "      <td>123</td>\n",
       "      <td>6.2</td>\n",
       "      <td>393727</td>\n",
       "      <td>325.02</td>\n",
       "      <td>40.0</td>\n",
       "    </tr>\n",
       "  </tbody>\n",
       "</table>\n",
       "</div>"
      ],
      "text/plain": [
       "   Rank                    Title                     Genre  \\\n",
       "0     1  Guardians of the Galaxy   Action,Adventure,Sci-Fi   \n",
       "1     2               Prometheus  Adventure,Mystery,Sci-Fi   \n",
       "2     3                    Split           Horror,Thriller   \n",
       "3     4                     Sing   Animation,Comedy,Family   \n",
       "4     5            Suicide Squad  Action,Adventure,Fantasy   \n",
       "\n",
       "                                         Description              Director  \\\n",
       "0  A group of intergalactic criminals are forced ...            James Gunn   \n",
       "1  Following clues to the origin of mankind, a te...          Ridley Scott   \n",
       "2  Three girls are kidnapped by a man with a diag...    M. Night Shyamalan   \n",
       "3  In a city of humanoid animals, a hustling thea...  Christophe Lourdelet   \n",
       "4  A secret government agency recruits some of th...            David Ayer   \n",
       "\n",
       "                                              Actors  Year  Runtime (Minutes)  \\\n",
       "0  Chris Pratt, Vin Diesel, Bradley Cooper, Zoe S...  2014                121   \n",
       "1  Noomi Rapace, Logan Marshall-Green, Michael Fa...  2012                124   \n",
       "2  James McAvoy, Anya Taylor-Joy, Haley Lu Richar...  2016                117   \n",
       "3  Matthew McConaughey,Reese Witherspoon, Seth Ma...  2016                108   \n",
       "4  Will Smith, Jared Leto, Margot Robbie, Viola D...  2016                123   \n",
       "\n",
       "   Rating   Votes  Revenue (Millions)  Metascore  \n",
       "0     8.1  757074              333.13       76.0  \n",
       "1     7.0  485820              126.46       65.0  \n",
       "2     7.3  157606              138.12       62.0  \n",
       "3     7.2   60545              270.32       59.0  \n",
       "4     6.2  393727              325.02       40.0  "
      ]
     },
     "execution_count": 5,
     "metadata": {},
     "output_type": "execute_result"
    }
   ],
   "source": [
    "#Examine the head entries of the dataset \n",
    "movies.head()"
   ]
  },
  {
   "cell_type": "code",
   "execution_count": 7,
   "metadata": {},
   "outputs": [
    {
     "data": {
      "text/plain": [
       "(1000, 12)"
      ]
     },
     "execution_count": 7,
     "metadata": {},
     "output_type": "execute_result"
    }
   ],
   "source": [
    "#Find out the total rows and columns of the DataFrame \n",
    "movies.shape\n"
   ]
  },
  {
   "cell_type": "code",
   "execution_count": null,
   "metadata": {},
   "outputs": [],
   "source": [
    "##### Why is unique 'Titles' count not equal to the no: of rows of the dataset. Are there any duplicate movies ?#####\n"
   ]
  },
  {
   "cell_type": "code",
   "execution_count": 8,
   "metadata": {},
   "outputs": [
    {
     "data": {
      "text/plain": [
       "999"
      ]
     },
     "execution_count": 8,
     "metadata": {},
     "output_type": "execute_result"
    }
   ],
   "source": [
    "#check for number of unique values for the column 'Title'\n",
    "movies.Title.nunique()"
   ]
  },
  {
   "cell_type": "code",
   "execution_count": 11,
   "metadata": {},
   "outputs": [
    {
     "data": {
      "text/plain": [
       "True"
      ]
     },
     "execution_count": 11,
     "metadata": {},
     "output_type": "execute_result"
    }
   ],
   "source": [
    "#Check for duplicate values in the column 'Title'\n",
    "movies.Title.duplicated().any()"
   ]
  },
  {
   "cell_type": "code",
   "execution_count": 12,
   "metadata": {},
   "outputs": [
    {
     "data": {
      "text/html": [
       "<div>\n",
       "<table border=\"1\" class=\"dataframe\">\n",
       "  <thead>\n",
       "    <tr style=\"text-align: right;\">\n",
       "      <th></th>\n",
       "      <th>Rank</th>\n",
       "      <th>Title</th>\n",
       "      <th>Genre</th>\n",
       "      <th>Description</th>\n",
       "      <th>Director</th>\n",
       "      <th>Actors</th>\n",
       "      <th>Year</th>\n",
       "      <th>Runtime (Minutes)</th>\n",
       "      <th>Rating</th>\n",
       "      <th>Votes</th>\n",
       "      <th>Revenue (Millions)</th>\n",
       "      <th>Metascore</th>\n",
       "    </tr>\n",
       "  </thead>\n",
       "  <tbody>\n",
       "    <tr>\n",
       "      <th>239</th>\n",
       "      <td>240</td>\n",
       "      <td>The Host</td>\n",
       "      <td>Action,Adventure,Romance</td>\n",
       "      <td>When an unseen enemy threatens mankind by taki...</td>\n",
       "      <td>Andrew Niccol</td>\n",
       "      <td>Saoirse Ronan, Max Irons, Jake Abel, Diane Kruger</td>\n",
       "      <td>2013</td>\n",
       "      <td>125</td>\n",
       "      <td>5.9</td>\n",
       "      <td>96852</td>\n",
       "      <td>26.62</td>\n",
       "      <td>35.0</td>\n",
       "    </tr>\n",
       "    <tr>\n",
       "      <th>632</th>\n",
       "      <td>633</td>\n",
       "      <td>The Host</td>\n",
       "      <td>Comedy,Drama,Horror</td>\n",
       "      <td>A monster emerges from Seoul's Han River and f...</td>\n",
       "      <td>Bong Joon Ho</td>\n",
       "      <td>Kang-ho Song, Hee-Bong Byun, Hae-il Park, Doon...</td>\n",
       "      <td>2006</td>\n",
       "      <td>120</td>\n",
       "      <td>7.0</td>\n",
       "      <td>73491</td>\n",
       "      <td>2.20</td>\n",
       "      <td>85.0</td>\n",
       "    </tr>\n",
       "  </tbody>\n",
       "</table>\n",
       "</div>"
      ],
      "text/plain": [
       "     Rank     Title                     Genre  \\\n",
       "239   240  The Host  Action,Adventure,Romance   \n",
       "632   633  The Host       Comedy,Drama,Horror   \n",
       "\n",
       "                                           Description       Director  \\\n",
       "239  When an unseen enemy threatens mankind by taki...  Andrew Niccol   \n",
       "632  A monster emerges from Seoul's Han River and f...   Bong Joon Ho   \n",
       "\n",
       "                                                Actors  Year  \\\n",
       "239  Saoirse Ronan, Max Irons, Jake Abel, Diane Kruger  2013   \n",
       "632  Kang-ho Song, Hee-Bong Byun, Hae-il Park, Doon...  2006   \n",
       "\n",
       "     Runtime (Minutes)  Rating  Votes  Revenue (Millions)  Metascore  \n",
       "239                125     5.9  96852               26.62       35.0  \n",
       "632                120     7.0  73491                2.20       85.0  "
      ]
     },
     "execution_count": 12,
     "metadata": {},
     "output_type": "execute_result"
    }
   ],
   "source": [
    "#Find out the movies with Duplicate 'Title'\n",
    "movies.loc[movies.Title.duplicated(keep =False)]"
   ]
  },
  {
   "cell_type": "markdown",
   "metadata": {},
   "source": [
    "  ##### There are no duplicate movies.The movie with Title\"The Host\" was released on 2006 and 2013. So they are 2 different movies #####"
   ]
  },
  {
   "cell_type": "markdown",
   "metadata": {},
   "source": [
    "#Count the number of missing values in each column \n",
    "movies.isnull().sum()"
   ]
  },
  {
   "cell_type": "code",
   "execution_count": 18,
   "metadata": {},
   "outputs": [],
   "source": [
    "def missing_value_pct(series):\n",
    "# Returns the missing value percentage of a series#\n",
    "\n",
    "    return series.isnull().mean()"
   ]
  },
  {
   "cell_type": "code",
   "execution_count": 21,
   "metadata": {},
   "outputs": [
    {
     "data": {
      "text/plain": [
       "0.128"
      ]
     },
     "execution_count": 21,
     "metadata": {},
     "output_type": "execute_result"
    }
   ],
   "source": [
    "#Percentage of missing values in Revenue column\n",
    "missing_value_pct(movies[\"Revenue (Millions)\"])"
   ]
  },
  {
   "cell_type": "code",
   "execution_count": 23,
   "metadata": {},
   "outputs": [
    {
     "data": {
      "text/plain": [
       "0.064"
      ]
     },
     "execution_count": 23,
     "metadata": {},
     "output_type": "execute_result"
    }
   ],
   "source": [
    "#Percentage of missing values in Metascore column\n",
    "missing_value_pct(movies[\"Metascore\"])"
   ]
  },
  {
   "cell_type": "code",
   "execution_count": null,
   "metadata": {},
   "outputs": [],
   "source": [
    "##### Revenue (Millions)\" and \"Metascore\" are important fields for EDA of this dataset, hence these columns cannot be dropped.\n",
    "\n",
    "The percentage of rows that hace misssing values for \"Revenue (Millions)\"  is 12.8% , which is high , hence need to be filled in. \n",
    "\n",
    "The percentage of rows that have missing values for \"Metascore\" is 6.4% which is quite low . Hence these rows could be dropped which has missing value for this column.\n",
    "#####\n"
   ]
  },
  {
   "cell_type": "code",
   "execution_count": 16,
   "metadata": {},
   "outputs": [
    {
     "ename": "SyntaxError",
     "evalue": "invalid syntax (<ipython-input-16-6e895d3bfda9>, line 1)",
     "output_type": "error",
     "traceback": [
      "\u001b[0;36m  File \u001b[0;32m\"<ipython-input-16-6e895d3bfda9>\"\u001b[0;36m, line \u001b[0;32m1\u001b[0m\n\u001b[0;31m    <a id=section302></a>\u001b[0m\n\u001b[0m    ^\u001b[0m\n\u001b[0;31mSyntaxError\u001b[0m\u001b[0;31m:\u001b[0m invalid syntax\n"
     ]
    }
   ],
   "source": [
    "<a id=section302></a>\n",
    "#### Pre-Profiling #### "
   ]
  },
  {
   "cell_type": "code",
   "execution_count": 17,
   "metadata": {},
   "outputs": [
    {
     "name": "stdout",
     "output_type": "stream",
     "text": [
      "Collecting pip\n",
      "\u001b[?25l  Downloading https://files.pythonhosted.org/packages/54/2e/df11ea7e23e7e761d484ed3740285a34e38548cf2bad2bed3dd5768ec8b9/pip-20.1-py2.py3-none-any.whl (1.5MB)\n",
      "\u001b[K     |████████████████████████████████| 1.5MB 3.8MB/s eta 0:00:01\n",
      "\u001b[?25hInstalling collected packages: pip\n",
      "  Found existing installation: pip 19.3.1\n",
      "    Uninstalling pip-19.3.1:\n",
      "      Successfully uninstalled pip-19.3.1\n",
      "Successfully installed pip-20.1\n"
     ]
    }
   ],
   "source": [
    "#using the pandas_profiling lib to generate report before pre-processing #'\n",
    "\n",
    "!pip install --upgrade pip "
   ]
  },
  {
   "cell_type": "code",
   "execution_count": null,
   "metadata": {},
   "outputs": [],
   "source": [
    "import pandas_profiling \n",
    "# Using the pandas_profiling lib to generate report before pre-processing\n",
    "movies_profile = pandas_profiling.ProfileReport(movies)\n",
    "movies_profile.to_file(outputfile=\"movies_preprocessing.html\")"
   ]
  },
  {
   "cell_type": "code",
   "execution_count": null,
   "metadata": {},
   "outputs": [],
   "source": [
    "<a id=section303></a>\n",
    "Pre-processing \n",
    "Pre-profiling output shows the distribution of \"Revenue(Millions)\" is right skewed.so let's fill these missing value with the median value'"
   ]
  },
  {
   "cell_type": "code",
   "execution_count": 27,
   "metadata": {},
   "outputs": [],
   "source": [
    "# Filling the missing values with the median value\n",
    "median_revenue = movies['Revenue (Millions)'].median()\n",
    "movies['Revenue (Millions)'].fillna(value=median_revenue, inplace=True)"
   ]
  },
  {
   "cell_type": "code",
   "execution_count": 33,
   "metadata": {},
   "outputs": [
    {
     "data": {
      "text/plain": [
       "False"
      ]
     },
     "execution_count": 33,
     "metadata": {},
     "output_type": "execute_result"
    }
   ],
   "source": [
    "#Check if there are anymore missing values\n",
    "movies['Revenue (Millions)'].isnull().any()"
   ]
  },
  {
   "cell_type": "code",
   "execution_count": 34,
   "metadata": {},
   "outputs": [],
   "source": [
    "#Dropping the rows that having missing values for 'Metascore'\n",
    "movies.dropna(subset=['Metascore'], inplace=True)"
   ]
  },
  {
   "cell_type": "code",
   "execution_count": 35,
   "metadata": {},
   "outputs": [
    {
     "data": {
      "text/plain": [
       "False"
      ]
     },
     "execution_count": 35,
     "metadata": {},
     "output_type": "execute_result"
    }
   ],
   "source": [
    "# Check if there are anymore missing values\n",
    "movies.Metascore.isnull().any()"
   ]
  },
  {
   "cell_type": "code",
   "execution_count": 36,
   "metadata": {},
   "outputs": [
    {
     "data": {
      "text/plain": [
       "(936, 12)"
      ]
     },
     "execution_count": 36,
     "metadata": {},
     "output_type": "execute_result"
    }
   ],
   "source": [
    "#Check the new shape of the dataset\n",
    "movies.shape"
   ]
  },
  {
   "cell_type": "code",
   "execution_count": null,
   "metadata": {},
   "outputs": [],
   "source": [
    "<a id=section304></a>\n",
    "#### Post -Profiling ####"
   ]
  },
  {
   "cell_type": "raw",
   "metadata": {},
   "source": [
    "# Using the pandas_profiling lib to generate report after pre-processing\n",
    "movies_profile = pandas_profiling.ProfileReport(movies)\n",
    "movies_profile.to_file(outputfile=\"movies_postprocessing.html\")"
   ]
  },
  {
   "cell_type": "code",
   "execution_count": null,
   "metadata": {},
   "outputs": [],
   "source": [
    "<a id=section305></a>\n",
    "#### Checking for incorrect Data Type ####"
   ]
  },
  {
   "cell_type": "code",
   "execution_count": 88,
   "metadata": {},
   "outputs": [
    {
     "data": {
      "text/plain": [
       "Rank                    int64\n",
       "Title                  object\n",
       "Genre                  object\n",
       "Description            object\n",
       "Director               object\n",
       "Actors                 object\n",
       "Year                    int64\n",
       "Runtime (Minutes)       int64\n",
       "Rating                float64\n",
       "Votes                   int64\n",
       "Revenue (Millions)    float64\n",
       "Metascore             float64\n",
       "dtype: object"
      ]
     },
     "execution_count": 88,
     "metadata": {},
     "output_type": "execute_result"
    }
   ],
   "source": [
    "movies.dtypes"
   ]
  },
  {
   "cell_type": "code",
   "execution_count": null,
   "metadata": {},
   "outputs": [],
   "source": [
    "##### The movies columns and their datatypes seems to be mapped correctly. So no correction in datatypes required\n",
    "\n",
    "It is a good idea to set the index of the DataFrame to movie title as the titles are unique #####"
   ]
  },
  {
   "cell_type": "code",
   "execution_count": 30,
   "metadata": {},
   "outputs": [],
   "source": [
    "# Rename the columns 'Runtime (Minutes) and 'Revenue (Millions)' for ease of accessing columns\n",
    "movies.rename(columns={'Runtime (Minutes)' : 'Runtime', 'Revenue (Millions)': 'Revenue'}, inplace=True)"
   ]
  },
  {
   "cell_type": "code",
   "execution_count": 31,
   "metadata": {},
   "outputs": [
    {
     "data": {
      "text/html": [
       "<div>\n",
       "<table border=\"1\" class=\"dataframe\">\n",
       "  <thead>\n",
       "    <tr style=\"text-align: right;\">\n",
       "      <th></th>\n",
       "      <th>Rank</th>\n",
       "      <th>Title</th>\n",
       "      <th>Genre</th>\n",
       "      <th>Description</th>\n",
       "      <th>Director</th>\n",
       "      <th>Actors</th>\n",
       "      <th>Year</th>\n",
       "      <th>Runtime</th>\n",
       "      <th>Rating</th>\n",
       "      <th>Votes</th>\n",
       "      <th>Revenue</th>\n",
       "      <th>Metascore</th>\n",
       "    </tr>\n",
       "  </thead>\n",
       "  <tbody>\n",
       "    <tr>\n",
       "      <th>0</th>\n",
       "      <td>1</td>\n",
       "      <td>Guardians of the Galaxy</td>\n",
       "      <td>Action,Adventure,Sci-Fi</td>\n",
       "      <td>A group of intergalactic criminals are forced ...</td>\n",
       "      <td>James Gunn</td>\n",
       "      <td>Chris Pratt, Vin Diesel, Bradley Cooper, Zoe S...</td>\n",
       "      <td>2014</td>\n",
       "      <td>121</td>\n",
       "      <td>8.1</td>\n",
       "      <td>757074</td>\n",
       "      <td>333.13</td>\n",
       "      <td>76.0</td>\n",
       "    </tr>\n",
       "    <tr>\n",
       "      <th>1</th>\n",
       "      <td>2</td>\n",
       "      <td>Prometheus</td>\n",
       "      <td>Adventure,Mystery,Sci-Fi</td>\n",
       "      <td>Following clues to the origin of mankind, a te...</td>\n",
       "      <td>Ridley Scott</td>\n",
       "      <td>Noomi Rapace, Logan Marshall-Green, Michael Fa...</td>\n",
       "      <td>2012</td>\n",
       "      <td>124</td>\n",
       "      <td>7.0</td>\n",
       "      <td>485820</td>\n",
       "      <td>126.46</td>\n",
       "      <td>65.0</td>\n",
       "    </tr>\n",
       "    <tr>\n",
       "      <th>2</th>\n",
       "      <td>3</td>\n",
       "      <td>Split</td>\n",
       "      <td>Horror,Thriller</td>\n",
       "      <td>Three girls are kidnapped by a man with a diag...</td>\n",
       "      <td>M. Night Shyamalan</td>\n",
       "      <td>James McAvoy, Anya Taylor-Joy, Haley Lu Richar...</td>\n",
       "      <td>2016</td>\n",
       "      <td>117</td>\n",
       "      <td>7.3</td>\n",
       "      <td>157606</td>\n",
       "      <td>138.12</td>\n",
       "      <td>62.0</td>\n",
       "    </tr>\n",
       "    <tr>\n",
       "      <th>3</th>\n",
       "      <td>4</td>\n",
       "      <td>Sing</td>\n",
       "      <td>Animation,Comedy,Family</td>\n",
       "      <td>In a city of humanoid animals, a hustling thea...</td>\n",
       "      <td>Christophe Lourdelet</td>\n",
       "      <td>Matthew McConaughey,Reese Witherspoon, Seth Ma...</td>\n",
       "      <td>2016</td>\n",
       "      <td>108</td>\n",
       "      <td>7.2</td>\n",
       "      <td>60545</td>\n",
       "      <td>270.32</td>\n",
       "      <td>59.0</td>\n",
       "    </tr>\n",
       "    <tr>\n",
       "      <th>4</th>\n",
       "      <td>5</td>\n",
       "      <td>Suicide Squad</td>\n",
       "      <td>Action,Adventure,Fantasy</td>\n",
       "      <td>A secret government agency recruits some of th...</td>\n",
       "      <td>David Ayer</td>\n",
       "      <td>Will Smith, Jared Leto, Margot Robbie, Viola D...</td>\n",
       "      <td>2016</td>\n",
       "      <td>123</td>\n",
       "      <td>6.2</td>\n",
       "      <td>393727</td>\n",
       "      <td>325.02</td>\n",
       "      <td>40.0</td>\n",
       "    </tr>\n",
       "  </tbody>\n",
       "</table>\n",
       "</div>"
      ],
      "text/plain": [
       "   Rank                    Title                     Genre  \\\n",
       "0     1  Guardians of the Galaxy   Action,Adventure,Sci-Fi   \n",
       "1     2               Prometheus  Adventure,Mystery,Sci-Fi   \n",
       "2     3                    Split           Horror,Thriller   \n",
       "3     4                     Sing   Animation,Comedy,Family   \n",
       "4     5            Suicide Squad  Action,Adventure,Fantasy   \n",
       "\n",
       "                                         Description              Director  \\\n",
       "0  A group of intergalactic criminals are forced ...            James Gunn   \n",
       "1  Following clues to the origin of mankind, a te...          Ridley Scott   \n",
       "2  Three girls are kidnapped by a man with a diag...    M. Night Shyamalan   \n",
       "3  In a city of humanoid animals, a hustling thea...  Christophe Lourdelet   \n",
       "4  A secret government agency recruits some of th...            David Ayer   \n",
       "\n",
       "                                              Actors  Year  Runtime  Rating  \\\n",
       "0  Chris Pratt, Vin Diesel, Bradley Cooper, Zoe S...  2014      121     8.1   \n",
       "1  Noomi Rapace, Logan Marshall-Green, Michael Fa...  2012      124     7.0   \n",
       "2  James McAvoy, Anya Taylor-Joy, Haley Lu Richar...  2016      117     7.3   \n",
       "3  Matthew McConaughey,Reese Witherspoon, Seth Ma...  2016      108     7.2   \n",
       "4  Will Smith, Jared Leto, Margot Robbie, Viola D...  2016      123     6.2   \n",
       "\n",
       "    Votes  Revenue  Metascore  \n",
       "0  757074   333.13       76.0  \n",
       "1  485820   126.46       65.0  \n",
       "2  157606   138.12       62.0  \n",
       "3   60545   270.32       59.0  \n",
       "4  393727   325.02       40.0  "
      ]
     },
     "execution_count": 31,
     "metadata": {},
     "output_type": "execute_result"
    }
   ],
   "source": [
    "# Check the head entries to see the changes\n",
    "movies.head()"
   ]
  },
  {
   "cell_type": "code",
   "execution_count": 32,
   "metadata": {},
   "outputs": [
    {
     "data": {
      "text/plain": [
       "True"
      ]
     },
     "execution_count": 32,
     "metadata": {},
     "output_type": "execute_result"
    }
   ],
   "source": [
    "# Finally check for any missing values in the whole DataFrame\n",
    "movies.isnull().any().any()"
   ]
  },
  {
   "cell_type": "code",
   "execution_count": null,
   "metadata": {},
   "outputs": [],
   "source": [
    "<a id=section4></a>\n",
    "## 4. Questions & EDA\n",
    "In this section, we are going to Question/Explore the dataset. This involves asking Questions, Exploring and Augmenting the dataset based on the questions. We will use descriptive statistics and also data visualization to help us explore the dataset.\n",
    "\n",
    "\n"
   ]
  },
  {
   "cell_type": "code",
   "execution_count": null,
   "metadata": {},
   "outputs": [],
   "source": [
    "<a id=section4.1></a>\n",
    "4.1 Find out the impact of directors on the movie\n"
   ]
  },
  {
   "cell_type": "code",
   "execution_count": null,
   "metadata": {},
   "outputs": [],
   "source": [
    "<a id=section4.1.1></a>\n",
    "4.1.1 Does a particular director's movies receive higher Revenue ?"
   ]
  },
  {
   "cell_type": "code",
   "execution_count": 33,
   "metadata": {},
   "outputs": [
    {
     "data": {
      "text/plain": [
       "Ridley Scott          8\n",
       "David Yates           6\n",
       "Michael Bay           6\n",
       "M. Night Shyamalan    6\n",
       "Paul W.S. Anderson    6\n",
       "Martin Scorsese       5\n",
       "David Fincher         5\n",
       "Denis Villeneuve      5\n",
       "Woody Allen           5\n",
       "J.J. Abrams           5\n",
       "Antoine Fuqua         5\n",
       "Peter Berg            5\n",
       "Name: Director, dtype: int64"
      ]
     },
     "execution_count": 33,
     "metadata": {},
     "output_type": "execute_result"
    }
   ],
   "source": [
    "# Calculate the number of movies directed by each director over the 12 year period\n",
    "movies.Director.value_counts().head(12)"
   ]
  },
  {
   "cell_type": "code",
   "execution_count": 95,
   "metadata": {},
   "outputs": [
    {
     "data": {
      "text/html": [
       "<div>\n",
       "<table border=\"1\" class=\"dataframe\">\n",
       "  <thead>\n",
       "    <tr style=\"text-align: right;\">\n",
       "      <th></th>\n",
       "      <th>Movies Count</th>\n",
       "      <th>Revenue</th>\n",
       "    </tr>\n",
       "    <tr>\n",
       "      <th>Director</th>\n",
       "      <th></th>\n",
       "      <th></th>\n",
       "    </tr>\n",
       "  </thead>\n",
       "  <tbody>\n",
       "    <tr>\n",
       "      <th>James Cameron</th>\n",
       "      <td>1</td>\n",
       "      <td>760.510</td>\n",
       "    </tr>\n",
       "    <tr>\n",
       "      <th>Colin Trevorrow</th>\n",
       "      <td>1</td>\n",
       "      <td>652.180</td>\n",
       "    </tr>\n",
       "    <tr>\n",
       "      <th>Joss Whedon</th>\n",
       "      <td>2</td>\n",
       "      <td>541.135</td>\n",
       "    </tr>\n",
       "    <tr>\n",
       "      <th>Lee Unkrich</th>\n",
       "      <td>1</td>\n",
       "      <td>414.980</td>\n",
       "    </tr>\n",
       "    <tr>\n",
       "      <th>Gary Ross</th>\n",
       "      <td>1</td>\n",
       "      <td>408.000</td>\n",
       "    </tr>\n",
       "  </tbody>\n",
       "</table>\n",
       "</div>"
      ],
      "text/plain": [
       "                 Movies Count  Revenue\n",
       "Director                              \n",
       "James Cameron               1  760.510\n",
       "Colin Trevorrow             1  652.180\n",
       "Joss Whedon                 2  541.135\n",
       "Lee Unkrich                 1  414.980\n",
       "Gary Ross                   1  408.000"
      ]
     },
     "execution_count": 95,
     "metadata": {},
     "output_type": "execute_result"
    }
   ],
   "source": [
    "# Find out the top 5 directors by Revenue\n",
    "revenue_directors = movies.groupby('Director').agg({'Revenue': 'mean', 'Rank': 'count'})\n",
    "top_5_revenue_directors = revenue_directors.rename(columns={'Rank': 'Movies Count'}).sort_values('Revenue', ascending=False)[:5]\n",
    "top_5_revenue_directors"
   ]
  },
  {
   "cell_type": "code",
   "execution_count": 99,
   "metadata": {},
   "outputs": [
    {
     "data": {
      "image/png": "[encoded data removed]",
      "text/plain": [
       "<matplotlib.figure.Figure at 0x7f2d5b672a90>"
      ]
     },
     "metadata": {},
     "output_type": "display_data"
    }
   ],
   "source": [
    "# Plot the result\n",
    "ax = top_5_revenue_directors['Revenue'].plot.bar();\n",
    "ax.set_ylabel('Revenue in Millions')\n",
    "ax.set_title('Average Revenue of Top 5 Directors by Revenue', y=1.02)\n",
    "ax.set_xticklabels(top_5_revenue_directors.index, rotation = 45);"
   ]
  },
  {
   "cell_type": "code",
   "execution_count": null,
   "metadata": {},
   "outputs": [],
   "source": [
    "<a id=section 4.1.2></a>\n",
    "Does a particular director's movies receive higher IMDB Rating ?"
   ]
  },
  {
   "cell_type": "code",
   "execution_count": 100,
   "metadata": {},
   "outputs": [
    {
     "data": {
      "text/html": [
       "<div>\n",
       "<table border=\"1\" class=\"dataframe\">\n",
       "  <thead>\n",
       "    <tr style=\"text-align: right;\">\n",
       "      <th></th>\n",
       "      <th>Rating</th>\n",
       "      <th>Movies Count</th>\n",
       "    </tr>\n",
       "    <tr>\n",
       "      <th>Director</th>\n",
       "      <th></th>\n",
       "      <th></th>\n",
       "    </tr>\n",
       "  </thead>\n",
       "  <tbody>\n",
       "    <tr>\n",
       "      <th>Christopher Nolan</th>\n",
       "      <td>8.68</td>\n",
       "      <td>5</td>\n",
       "    </tr>\n",
       "    <tr>\n",
       "      <th>Makoto Shinkai</th>\n",
       "      <td>8.60</td>\n",
       "      <td>1</td>\n",
       "    </tr>\n",
       "    <tr>\n",
       "      <th>Olivier Nakache</th>\n",
       "      <td>8.60</td>\n",
       "      <td>1</td>\n",
       "    </tr>\n",
       "    <tr>\n",
       "      <th>Aamir Khan</th>\n",
       "      <td>8.50</td>\n",
       "      <td>1</td>\n",
       "    </tr>\n",
       "    <tr>\n",
       "      <th>Florian Henckel von Donnersmarck</th>\n",
       "      <td>8.50</td>\n",
       "      <td>1</td>\n",
       "    </tr>\n",
       "  </tbody>\n",
       "</table>\n",
       "</div>"
      ],
      "text/plain": [
       "                                  Rating  Movies Count\n",
       "Director                                              \n",
       "Christopher Nolan                   8.68             5\n",
       "Makoto Shinkai                      8.60             1\n",
       "Olivier Nakache                     8.60             1\n",
       "Aamir Khan                          8.50             1\n",
       "Florian Henckel von Donnersmarck    8.50             1"
      ]
     },
     "execution_count": 100,
     "metadata": {},
     "output_type": "execute_result"
    }
   ],
   "source": [
    "# Find out the top 5 directors by IMDB Rating\n",
    "rating_directors = movies.groupby('Director').agg({'Rating': 'mean', 'Rank': 'count'})\n",
    "top_5_rating_directors = rating_directors.rename(columns={'Rank': 'Movies Count'}).sort_values('Rating', ascending=False)[:5]\n",
    "top_5_rating_directors"
   ]
  },
  {
   "cell_type": "code",
   "execution_count": 101,
   "metadata": {},
   "outputs": [
    {
     "data": {
      "image/png": "[encoded data removed]",
      "text/plain": [
       "<matplotlib.figure.Figure at 0x7f2d63d9f588>"
      ]
     },
     "metadata": {},
     "output_type": "display_data"
    }
   ],
   "source": [
    "# Plot the result\n",
    "ax = top_5_rating_directors['Rating'].plot.bar();\n",
    "ax.set_ylabel('IMDB Rating')\n",
    "ax.set_title('Average IMDB Rating of Top 5 Directors by IMDB Rating', y=1.02)\n",
    "ax.set_xticklabels(top_5_rating_directors.index, rotation = 45);"
   ]
  },
  {
   "cell_type": "code",
   "execution_count": null,
   "metadata": {},
   "outputs": [],
   "source": [
    "<a id=section 4.1.3></a>\n",
    "4.1.3 Does a particular director's movies receive higher Metacritic score "
   ]
  },
  {
   "cell_type": "code",
   "execution_count": 102,
   "metadata": {},
   "outputs": [
    {
     "data": {
      "text/html": [
       "<div>\n",
       "<table border=\"1\" class=\"dataframe\">\n",
       "  <thead>\n",
       "    <tr style=\"text-align: right;\">\n",
       "      <th></th>\n",
       "      <th>Movies Count</th>\n",
       "      <th>Metascore</th>\n",
       "    </tr>\n",
       "    <tr>\n",
       "      <th>Director</th>\n",
       "      <th></th>\n",
       "      <th></th>\n",
       "    </tr>\n",
       "  </thead>\n",
       "  <tbody>\n",
       "    <tr>\n",
       "      <th>Barry Jenkins</th>\n",
       "      <td>1</td>\n",
       "      <td>99.0</td>\n",
       "    </tr>\n",
       "    <tr>\n",
       "      <th>Kenneth Lonergan</th>\n",
       "      <td>1</td>\n",
       "      <td>96.0</td>\n",
       "    </tr>\n",
       "    <tr>\n",
       "      <th>Todd Haynes</th>\n",
       "      <td>1</td>\n",
       "      <td>95.0</td>\n",
       "    </tr>\n",
       "    <tr>\n",
       "      <th>Kathryn Bigelow</th>\n",
       "      <td>2</td>\n",
       "      <td>94.5</td>\n",
       "    </tr>\n",
       "    <tr>\n",
       "      <th>Michael Goi</th>\n",
       "      <td>1</td>\n",
       "      <td>94.0</td>\n",
       "    </tr>\n",
       "  </tbody>\n",
       "</table>\n",
       "</div>"
      ],
      "text/plain": [
       "                  Movies Count  Metascore\n",
       "Director                                 \n",
       "Barry Jenkins                1       99.0\n",
       "Kenneth Lonergan             1       96.0\n",
       "Todd Haynes                  1       95.0\n",
       "Kathryn Bigelow              2       94.5\n",
       "Michael Goi                  1       94.0"
      ]
     },
     "execution_count": 102,
     "metadata": {},
     "output_type": "execute_result"
    }
   ],
   "source": [
    "# Find out the top 5 directors by Metacritic Score\n",
    "meta_directors = movies.groupby('Director').agg({'Metascore': 'mean', 'Rank': 'count'})\n",
    "top_5_meta_directors = meta_directors.rename(columns={'Rank': 'Movies Count'}).sort_values('Metascore', ascending=False)[:5]\n",
    "top_5_meta_directors"
   ]
  },
  {
   "cell_type": "code",
   "execution_count": 103,
   "metadata": {},
   "outputs": [
    {
     "data": {
      "image/png": "[encoded data removed]",
      "text/plain": [
       "<matplotlib.figure.Figure at 0x7f2d5afc7a20>"
      ]
     },
     "metadata": {},
     "output_type": "display_data"
    }
   ],
   "source": [
    "# Plot the result\n",
    "ax = top_5_meta_directors['Metascore'].plot.bar();\n",
    "ax.set_ylabel('Metascore')\n",
    "ax.set_title('Average Metascore of Top 5 Directors by Metascore', y=1.02)\n",
    "ax.set_xticklabels(top_5_meta_directors.index, rotation = 45);"
   ]
  },
  {
   "cell_type": "code",
   "execution_count": 6,
   "metadata": {},
   "outputs": [
    {
     "data": {
      "text/plain": [
       "Ridley Scott          8\n",
       "David Yates           6\n",
       "Paul W.S. Anderson    6\n",
       "M. Night Shyamalan    6\n",
       "Michael Bay           6\n",
       "Christopher Nolan     5\n",
       "Woody Allen           5\n",
       "Antoine Fuqua         5\n",
       "Martin Scorsese       5\n",
       "Denis Villeneuve      5\n",
       "David Fincher         5\n",
       "Zack Snyder           5\n",
       "Danny Boyle           5\n",
       "J.J. Abrams           5\n",
       "Justin Lin            5\n",
       "Peter Berg            5\n",
       "Name: Director, dtype: int64"
      ]
     },
     "execution_count": 6,
     "metadata": {},
     "output_type": "execute_result"
    }
   ],
   "source": [
    "# Lets take the list of all directors who have directed total number of movies of 5 or more.\n",
    "most_active_directors = movies['Director'].value_counts()[movies['Director'].value_counts() >= 5]\n",
    "most_active_directors"
   ]
  },
  {
   "cell_type": "code",
   "execution_count": 7,
   "metadata": {},
   "outputs": [
    {
     "data": {
      "text/html": [
       "<div>\n",
       "<table border=\"1\" class=\"dataframe\">\n",
       "  <thead>\n",
       "    <tr style=\"text-align: right;\">\n",
       "      <th></th>\n",
       "      <th>Rank</th>\n",
       "      <th>Title</th>\n",
       "      <th>Genre</th>\n",
       "      <th>Description</th>\n",
       "      <th>Director</th>\n",
       "      <th>Actors</th>\n",
       "      <th>Year</th>\n",
       "      <th>Runtime (Minutes)</th>\n",
       "      <th>Rating</th>\n",
       "      <th>Votes</th>\n",
       "      <th>Revenue (Millions)</th>\n",
       "      <th>Metascore</th>\n",
       "    </tr>\n",
       "  </thead>\n",
       "  <tbody>\n",
       "    <tr>\n",
       "      <th>1</th>\n",
       "      <td>2</td>\n",
       "      <td>Prometheus</td>\n",
       "      <td>Adventure,Mystery,Sci-Fi</td>\n",
       "      <td>Following clues to the origin of mankind, a te...</td>\n",
       "      <td>Ridley Scott</td>\n",
       "      <td>Noomi Rapace, Logan Marshall-Green, Michael Fa...</td>\n",
       "      <td>2012</td>\n",
       "      <td>124</td>\n",
       "      <td>7.0</td>\n",
       "      <td>485820</td>\n",
       "      <td>126.46</td>\n",
       "      <td>65.0</td>\n",
       "    </tr>\n",
       "    <tr>\n",
       "      <th>2</th>\n",
       "      <td>3</td>\n",
       "      <td>Split</td>\n",
       "      <td>Horror,Thriller</td>\n",
       "      <td>Three girls are kidnapped by a man with a diag...</td>\n",
       "      <td>M. Night Shyamalan</td>\n",
       "      <td>James McAvoy, Anya Taylor-Joy, Haley Lu Richar...</td>\n",
       "      <td>2016</td>\n",
       "      <td>117</td>\n",
       "      <td>7.3</td>\n",
       "      <td>157606</td>\n",
       "      <td>138.12</td>\n",
       "      <td>62.0</td>\n",
       "    </tr>\n",
       "    <tr>\n",
       "      <th>10</th>\n",
       "      <td>11</td>\n",
       "      <td>Fantastic Beasts and Where to Find Them</td>\n",
       "      <td>Adventure,Family,Fantasy</td>\n",
       "      <td>The adventures of writer Newt Scamander in New...</td>\n",
       "      <td>David Yates</td>\n",
       "      <td>Eddie Redmayne, Katherine Waterston, Alison Su...</td>\n",
       "      <td>2016</td>\n",
       "      <td>133</td>\n",
       "      <td>7.5</td>\n",
       "      <td>232072</td>\n",
       "      <td>234.02</td>\n",
       "      <td>66.0</td>\n",
       "    </tr>\n",
       "    <tr>\n",
       "      <th>19</th>\n",
       "      <td>20</td>\n",
       "      <td>Arrival</td>\n",
       "      <td>Drama,Mystery,Sci-Fi</td>\n",
       "      <td>When twelve mysterious spacecraft appear aroun...</td>\n",
       "      <td>Denis Villeneuve</td>\n",
       "      <td>Amy Adams, Jeremy Renner, Forest Whitaker,Mich...</td>\n",
       "      <td>2016</td>\n",
       "      <td>116</td>\n",
       "      <td>8.0</td>\n",
       "      <td>340798</td>\n",
       "      <td>100.50</td>\n",
       "      <td>81.0</td>\n",
       "    </tr>\n",
       "    <tr>\n",
       "      <th>34</th>\n",
       "      <td>35</td>\n",
       "      <td>Resident Evil: The Final Chapter</td>\n",
       "      <td>Action,Horror,Sci-Fi</td>\n",
       "      <td>Alice returns to where the nightmare began: Th...</td>\n",
       "      <td>Paul W.S. Anderson</td>\n",
       "      <td>Milla Jovovich, Iain Glen, Ali Larter, Shawn R...</td>\n",
       "      <td>2016</td>\n",
       "      <td>107</td>\n",
       "      <td>5.6</td>\n",
       "      <td>46165</td>\n",
       "      <td>26.84</td>\n",
       "      <td>49.0</td>\n",
       "    </tr>\n",
       "  </tbody>\n",
       "</table>\n",
       "</div>"
      ],
      "text/plain": [
       "    Rank                                    Title                     Genre  \\\n",
       "1      2                               Prometheus  Adventure,Mystery,Sci-Fi   \n",
       "2      3                                    Split           Horror,Thriller   \n",
       "10    11  Fantastic Beasts and Where to Find Them  Adventure,Family,Fantasy   \n",
       "19    20                                  Arrival      Drama,Mystery,Sci-Fi   \n",
       "34    35         Resident Evil: The Final Chapter      Action,Horror,Sci-Fi   \n",
       "\n",
       "                                          Description            Director  \\\n",
       "1   Following clues to the origin of mankind, a te...        Ridley Scott   \n",
       "2   Three girls are kidnapped by a man with a diag...  M. Night Shyamalan   \n",
       "10  The adventures of writer Newt Scamander in New...         David Yates   \n",
       "19  When twelve mysterious spacecraft appear aroun...    Denis Villeneuve   \n",
       "34  Alice returns to where the nightmare began: Th...  Paul W.S. Anderson   \n",
       "\n",
       "                                               Actors  Year  \\\n",
       "1   Noomi Rapace, Logan Marshall-Green, Michael Fa...  2012   \n",
       "2   James McAvoy, Anya Taylor-Joy, Haley Lu Richar...  2016   \n",
       "10  Eddie Redmayne, Katherine Waterston, Alison Su...  2016   \n",
       "19  Amy Adams, Jeremy Renner, Forest Whitaker,Mich...  2016   \n",
       "34  Milla Jovovich, Iain Glen, Ali Larter, Shawn R...  2016   \n",
       "\n",
       "    Runtime (Minutes)  Rating   Votes  Revenue (Millions)  Metascore  \n",
       "1                 124     7.0  485820              126.46       65.0  \n",
       "2                 117     7.3  157606              138.12       62.0  \n",
       "10                133     7.5  232072              234.02       66.0  \n",
       "19                116     8.0  340798              100.50       81.0  \n",
       "34                107     5.6   46165               26.84       49.0  "
      ]
     },
     "execution_count": 7,
     "metadata": {},
     "output_type": "execute_result"
    }
   ],
   "source": [
    "# Find out the movies of these active directors\n",
    "active_director_movies = movies[movies.Director.isin(most_active_directors.index.tolist())]\n",
    "active_director_movies.head()"
   ]
  },
  {
   "cell_type": "code",
   "execution_count": 12,
   "metadata": {},
   "outputs": [
    {
     "data": {
      "text/html": [
       "<div>\n",
       "<table border=\"1\" class=\"dataframe\">\n",
       "  <thead>\n",
       "    <tr style=\"text-align: right;\">\n",
       "      <th></th>\n",
       "      <th>Revenue (Millions)</th>\n",
       "      <th>Rating</th>\n",
       "      <th>Metascore</th>\n",
       "    </tr>\n",
       "    <tr>\n",
       "      <th>Director</th>\n",
       "      <th></th>\n",
       "      <th></th>\n",
       "      <th></th>\n",
       "    </tr>\n",
       "  </thead>\n",
       "  <tbody>\n",
       "    <tr>\n",
       "      <th>Antoine Fuqua</th>\n",
       "      <td>78.642000</td>\n",
       "      <td>7.040000</td>\n",
       "      <td>52.400000</td>\n",
       "    </tr>\n",
       "    <tr>\n",
       "      <th>Christopher Nolan</th>\n",
       "      <td>303.018000</td>\n",
       "      <td>8.680000</td>\n",
       "      <td>74.800000</td>\n",
       "    </tr>\n",
       "    <tr>\n",
       "      <th>Danny Boyle</th>\n",
       "      <td>36.680000</td>\n",
       "      <td>7.420000</td>\n",
       "      <td>75.000000</td>\n",
       "    </tr>\n",
       "    <tr>\n",
       "      <th>David Fincher</th>\n",
       "      <td>105.544000</td>\n",
       "      <td>7.820000</td>\n",
       "      <td>78.600000</td>\n",
       "    </tr>\n",
       "    <tr>\n",
       "      <th>David Yates</th>\n",
       "      <td>271.751667</td>\n",
       "      <td>7.433333</td>\n",
       "      <td>68.500000</td>\n",
       "    </tr>\n",
       "    <tr>\n",
       "      <th>Denis Villeneuve</th>\n",
       "      <td>43.242000</td>\n",
       "      <td>7.760000</td>\n",
       "      <td>75.600000</td>\n",
       "    </tr>\n",
       "    <tr>\n",
       "      <th>J.J. Abrams</th>\n",
       "      <td>336.690000</td>\n",
       "      <td>7.580000</td>\n",
       "      <td>74.600000</td>\n",
       "    </tr>\n",
       "    <tr>\n",
       "      <th>Justin Lin</th>\n",
       "      <td>164.958000</td>\n",
       "      <td>6.820000</td>\n",
       "      <td>57.200000</td>\n",
       "    </tr>\n",
       "    <tr>\n",
       "      <th>M. Night Shyamalan</th>\n",
       "      <td>74.098000</td>\n",
       "      <td>5.533333</td>\n",
       "      <td>40.000000</td>\n",
       "    </tr>\n",
       "    <tr>\n",
       "      <th>Martin Scorsese</th>\n",
       "      <td>91.622000</td>\n",
       "      <td>7.920000</td>\n",
       "      <td>77.000000</td>\n",
       "    </tr>\n",
       "    <tr>\n",
       "      <th>Michael Bay</th>\n",
       "      <td>236.886667</td>\n",
       "      <td>6.483333</td>\n",
       "      <td>43.833333</td>\n",
       "    </tr>\n",
       "    <tr>\n",
       "      <th>Paul W.S. Anderson</th>\n",
       "      <td>34.820000</td>\n",
       "      <td>5.766667</td>\n",
       "      <td>40.333333</td>\n",
       "    </tr>\n",
       "    <tr>\n",
       "      <th>Peter Berg</th>\n",
       "      <td>102.266000</td>\n",
       "      <td>6.860000</td>\n",
       "      <td>57.400000</td>\n",
       "    </tr>\n",
       "    <tr>\n",
       "      <th>Ridley Scott</th>\n",
       "      <td>89.882500</td>\n",
       "      <td>6.850000</td>\n",
       "      <td>59.750000</td>\n",
       "    </tr>\n",
       "    <tr>\n",
       "      <th>Woody Allen</th>\n",
       "      <td>28.238000</td>\n",
       "      <td>7.020000</td>\n",
       "      <td>69.400000</td>\n",
       "    </tr>\n",
       "    <tr>\n",
       "      <th>Zack Snyder</th>\n",
       "      <td>195.148000</td>\n",
       "      <td>7.040000</td>\n",
       "      <td>48.000000</td>\n",
       "    </tr>\n",
       "  </tbody>\n",
       "</table>\n",
       "</div>"
      ],
      "text/plain": [
       "                    Revenue (Millions)    Rating  Metascore\n",
       "Director                                                   \n",
       "Antoine Fuqua                78.642000  7.040000  52.400000\n",
       "Christopher Nolan           303.018000  8.680000  74.800000\n",
       "Danny Boyle                  36.680000  7.420000  75.000000\n",
       "David Fincher               105.544000  7.820000  78.600000\n",
       "David Yates                 271.751667  7.433333  68.500000\n",
       "Denis Villeneuve             43.242000  7.760000  75.600000\n",
       "J.J. Abrams                 336.690000  7.580000  74.600000\n",
       "Justin Lin                  164.958000  6.820000  57.200000\n",
       "M. Night Shyamalan           74.098000  5.533333  40.000000\n",
       "Martin Scorsese              91.622000  7.920000  77.000000\n",
       "Michael Bay                 236.886667  6.483333  43.833333\n",
       "Paul W.S. Anderson           34.820000  5.766667  40.333333\n",
       "Peter Berg                  102.266000  6.860000  57.400000\n",
       "Ridley Scott                 89.882500  6.850000  59.750000\n",
       "Woody Allen                  28.238000  7.020000  69.400000\n",
       "Zack Snyder                 195.148000  7.040000  48.000000"
      ]
     },
     "execution_count": 12,
     "metadata": {},
     "output_type": "execute_result"
    }
   ],
   "source": [
    "# Find out the Average Revenue, Rating and Metascore of movies directed by the above Directors\n",
    "active_director_stats = active_director_movies.groupby('Director')['Revenue (Millions)', 'Rating', 'Metascore'].mean()\n",
    "active_director_stats"
   ]
  },
  {
   "cell_type": "code",
   "execution_count": 14,
   "metadata": {},
   "outputs": [
    {
     "name": "stdout",
     "output_type": "stream",
     "text": [
      "Ridley Scott 719.0600000000001\n",
      "David Yates 1630.51\n",
      "Paul W.S. Anderson 208.92\n",
      "M. Night Shyamalan 370.48999999999995\n",
      "Michael Bay 1421.32\n",
      "Christopher Nolan 1515.0900000000001\n",
      "Woody Allen 141.19000000000003\n",
      "Antoine Fuqua 393.21000000000004\n",
      "Martin Scorsese 458.10999999999996\n",
      "Denis Villeneuve 216.21\n",
      "David Fincher 527.72\n",
      "Zack Snyder 975.74\n",
      "Danny Boyle 183.39999999999998\n",
      "J.J. Abrams 1683.4499999999998\n",
      "Justin Lin 824.79\n",
      "Peter Berg 511.33\n"
     ]
    }
   ],
   "source": [
    "#Determine how much revenue each of these top 10 directors' films brought in (as a sum for each director) in millions\n",
    "\n",
    "director_revenue_totals = np.zeros(len(most_active_directors))\n",
    "i = 0\n",
    "for director in most_active_directors.index:\n",
    "    current_director = movies['Director'].str.contains(director).fillna(False)\n",
    "    director_film_revenue = movies[current_director].xs('Revenue (Millions)', axis=1).sum()\n",
    "    director_revenue_totals[i] = director_film_revenue\n",
    "    i += 1\n",
    "    print(director, director_film_revenue)"
   ]
  },
  {
   "cell_type": "code",
   "execution_count": 15,
   "metadata": {},
   "outputs": [
    {
     "data": {
      "text/html": [
       "<div>\n",
       "<table border=\"1\" class=\"dataframe\">\n",
       "  <thead>\n",
       "    <tr style=\"text-align: right;\">\n",
       "      <th></th>\n",
       "      <th>Revenue (Millions)</th>\n",
       "    </tr>\n",
       "  </thead>\n",
       "  <tbody>\n",
       "    <tr>\n",
       "      <th>Ridley Scott</th>\n",
       "      <td>719.06</td>\n",
       "    </tr>\n",
       "    <tr>\n",
       "      <th>David Yates</th>\n",
       "      <td>1630.51</td>\n",
       "    </tr>\n",
       "    <tr>\n",
       "      <th>Paul W.S. Anderson</th>\n",
       "      <td>208.92</td>\n",
       "    </tr>\n",
       "    <tr>\n",
       "      <th>M. Night Shyamalan</th>\n",
       "      <td>370.49</td>\n",
       "    </tr>\n",
       "    <tr>\n",
       "      <th>Michael Bay</th>\n",
       "      <td>1421.32</td>\n",
       "    </tr>\n",
       "    <tr>\n",
       "      <th>Christopher Nolan</th>\n",
       "      <td>1515.09</td>\n",
       "    </tr>\n",
       "    <tr>\n",
       "      <th>Woody Allen</th>\n",
       "      <td>141.19</td>\n",
       "    </tr>\n",
       "    <tr>\n",
       "      <th>Antoine Fuqua</th>\n",
       "      <td>393.21</td>\n",
       "    </tr>\n",
       "    <tr>\n",
       "      <th>Martin Scorsese</th>\n",
       "      <td>458.11</td>\n",
       "    </tr>\n",
       "    <tr>\n",
       "      <th>Denis Villeneuve</th>\n",
       "      <td>216.21</td>\n",
       "    </tr>\n",
       "    <tr>\n",
       "      <th>David Fincher</th>\n",
       "      <td>527.72</td>\n",
       "    </tr>\n",
       "    <tr>\n",
       "      <th>Zack Snyder</th>\n",
       "      <td>975.74</td>\n",
       "    </tr>\n",
       "    <tr>\n",
       "      <th>Danny Boyle</th>\n",
       "      <td>183.40</td>\n",
       "    </tr>\n",
       "    <tr>\n",
       "      <th>J.J. Abrams</th>\n",
       "      <td>1683.45</td>\n",
       "    </tr>\n",
       "    <tr>\n",
       "      <th>Justin Lin</th>\n",
       "      <td>824.79</td>\n",
       "    </tr>\n",
       "    <tr>\n",
       "      <th>Peter Berg</th>\n",
       "      <td>511.33</td>\n",
       "    </tr>\n",
       "  </tbody>\n",
       "</table>\n",
       "</div>"
      ],
      "text/plain": [
       "                    Revenue (Millions)\n",
       "Ridley Scott                    719.06\n",
       "David Yates                    1630.51\n",
       "Paul W.S. Anderson              208.92\n",
       "M. Night Shyamalan              370.49\n",
       "Michael Bay                    1421.32\n",
       "Christopher Nolan              1515.09\n",
       "Woody Allen                     141.19\n",
       "Antoine Fuqua                   393.21\n",
       "Martin Scorsese                 458.11\n",
       "Denis Villeneuve                216.21\n",
       "David Fincher                   527.72\n",
       "Zack Snyder                     975.74\n",
       "Danny Boyle                     183.40\n",
       "J.J. Abrams                    1683.45\n",
       "Justin Lin                      824.79\n",
       "Peter Berg                      511.33"
      ]
     },
     "execution_count": 15,
     "metadata": {},
     "output_type": "execute_result"
    }
   ],
   "source": [
    "director_revenue_totals_df = pd.DataFrame(director_revenue_totals, index=most_active_directors.index, columns=['Revenue (Millions)'])\n",
    "director_revenue_totals_df"
   ]
  },
  {
   "cell_type": "code",
   "execution_count": null,
   "metadata": {},
   "outputs": [],
   "source": [
    "#### We have just found the top directors in terms of movie Revenue, Rating and Metascore.####\n"
   ]
  },
  {
   "cell_type": "code",
   "execution_count": null,
   "metadata": {},
   "outputs": [],
   "source": [
    "<a id=section4.2.1></a>\n",
    "How does the runtime of movies affect them?"
   ]
  },
  {
   "cell_type": "code",
   "execution_count": 34,
   "metadata": {},
   "outputs": [
    {
     "data": {
      "text/plain": [
       "count    1000.000000\n",
       "mean      113.172000\n",
       "std        18.810908\n",
       "min        66.000000\n",
       "25%       100.000000\n",
       "50%       111.000000\n",
       "75%       123.000000\n",
       "max       191.000000\n",
       "Name: Runtime, dtype: float64"
      ]
     },
     "execution_count": 34,
     "metadata": {},
     "output_type": "execute_result"
    }
   ],
   "source": [
    "# Find out the percentiles of the Runtime column \n",
    "movies.Runtime.describe()"
   ]
  },
  {
   "cell_type": "code",
   "execution_count": 35,
   "metadata": {},
   "outputs": [
    {
     "data": {
      "text/plain": [
       "<matplotlib.axes._subplots.AxesSubplot at 0x7efe37124630>"
      ]
     },
     "execution_count": 35,
     "metadata": {},
     "output_type": "execute_result"
    },
    {
     "data": {
      "image/png": "[encoded data removed]",
      "text/plain": [
       "<matplotlib.figure.Figure at 0x7efe3712a1d0>"
      ]
     },
     "metadata": {},
     "output_type": "display_data"
    }
   ],
   "source": [
    "# Plot the distribution of the runtime column\n",
    "movies.Runtime.plot.hist()"
   ]
  },
  {
   "cell_type": "markdown",
   "metadata": {},
   "source": [
    "am going to classify the Runtime into different levels based on the output from the describe method\n",
    "\n",
    "| Runtime (in minutes) | Level|\n",
    "| --- | ---|\n",
    "| 66 -100 | Short|\n",
    "|100-111| Medium |\n",
    "|111 -123 |Moderately Long\n",
    " |123-187|Long\n"
   ]
  },
  {
   "cell_type": "code",
   "execution_count": 37,
   "metadata": {},
   "outputs": [
    {
     "data": {
      "text/html": [
       "<div>\n",
       "<table border=\"1\" class=\"dataframe\">\n",
       "  <thead>\n",
       "    <tr style=\"text-align: right;\">\n",
       "      <th></th>\n",
       "      <th>Rank</th>\n",
       "      <th>Title</th>\n",
       "      <th>Genre</th>\n",
       "      <th>Description</th>\n",
       "      <th>Director</th>\n",
       "      <th>Actors</th>\n",
       "      <th>Year</th>\n",
       "      <th>Runtime</th>\n",
       "      <th>Rating</th>\n",
       "      <th>Votes</th>\n",
       "      <th>Revenue</th>\n",
       "      <th>Metascore</th>\n",
       "      <th>Runtime_levels</th>\n",
       "    </tr>\n",
       "  </thead>\n",
       "  <tbody>\n",
       "    <tr>\n",
       "      <th>0</th>\n",
       "      <td>1</td>\n",
       "      <td>Guardians of the Galaxy</td>\n",
       "      <td>Action,Adventure,Sci-Fi</td>\n",
       "      <td>A group of intergalactic criminals are forced ...</td>\n",
       "      <td>James Gunn</td>\n",
       "      <td>Chris Pratt, Vin Diesel, Bradley Cooper, Zoe S...</td>\n",
       "      <td>2014</td>\n",
       "      <td>121</td>\n",
       "      <td>8.1</td>\n",
       "      <td>757074</td>\n",
       "      <td>333.13</td>\n",
       "      <td>76.0</td>\n",
       "      <td>Moderately Long</td>\n",
       "    </tr>\n",
       "    <tr>\n",
       "      <th>1</th>\n",
       "      <td>2</td>\n",
       "      <td>Prometheus</td>\n",
       "      <td>Adventure,Mystery,Sci-Fi</td>\n",
       "      <td>Following clues to the origin of mankind, a te...</td>\n",
       "      <td>Ridley Scott</td>\n",
       "      <td>Noomi Rapace, Logan Marshall-Green, Michael Fa...</td>\n",
       "      <td>2012</td>\n",
       "      <td>124</td>\n",
       "      <td>7.0</td>\n",
       "      <td>485820</td>\n",
       "      <td>126.46</td>\n",
       "      <td>65.0</td>\n",
       "      <td>Long</td>\n",
       "    </tr>\n",
       "    <tr>\n",
       "      <th>2</th>\n",
       "      <td>3</td>\n",
       "      <td>Split</td>\n",
       "      <td>Horror,Thriller</td>\n",
       "      <td>Three girls are kidnapped by a man with a diag...</td>\n",
       "      <td>M. Night Shyamalan</td>\n",
       "      <td>James McAvoy, Anya Taylor-Joy, Haley Lu Richar...</td>\n",
       "      <td>2016</td>\n",
       "      <td>117</td>\n",
       "      <td>7.3</td>\n",
       "      <td>157606</td>\n",
       "      <td>138.12</td>\n",
       "      <td>62.0</td>\n",
       "      <td>Moderately Long</td>\n",
       "    </tr>\n",
       "    <tr>\n",
       "      <th>3</th>\n",
       "      <td>4</td>\n",
       "      <td>Sing</td>\n",
       "      <td>Animation,Comedy,Family</td>\n",
       "      <td>In a city of humanoid animals, a hustling thea...</td>\n",
       "      <td>Christophe Lourdelet</td>\n",
       "      <td>Matthew McConaughey,Reese Witherspoon, Seth Ma...</td>\n",
       "      <td>2016</td>\n",
       "      <td>108</td>\n",
       "      <td>7.2</td>\n",
       "      <td>60545</td>\n",
       "      <td>270.32</td>\n",
       "      <td>59.0</td>\n",
       "      <td>Medium</td>\n",
       "    </tr>\n",
       "    <tr>\n",
       "      <th>4</th>\n",
       "      <td>5</td>\n",
       "      <td>Suicide Squad</td>\n",
       "      <td>Action,Adventure,Fantasy</td>\n",
       "      <td>A secret government agency recruits some of th...</td>\n",
       "      <td>David Ayer</td>\n",
       "      <td>Will Smith, Jared Leto, Margot Robbie, Viola D...</td>\n",
       "      <td>2016</td>\n",
       "      <td>123</td>\n",
       "      <td>6.2</td>\n",
       "      <td>393727</td>\n",
       "      <td>325.02</td>\n",
       "      <td>40.0</td>\n",
       "      <td>Moderately Long</td>\n",
       "    </tr>\n",
       "  </tbody>\n",
       "</table>\n",
       "</div>"
      ],
      "text/plain": [
       "   Rank                    Title                     Genre  \\\n",
       "0     1  Guardians of the Galaxy   Action,Adventure,Sci-Fi   \n",
       "1     2               Prometheus  Adventure,Mystery,Sci-Fi   \n",
       "2     3                    Split           Horror,Thriller   \n",
       "3     4                     Sing   Animation,Comedy,Family   \n",
       "4     5            Suicide Squad  Action,Adventure,Fantasy   \n",
       "\n",
       "                                         Description              Director  \\\n",
       "0  A group of intergalactic criminals are forced ...            James Gunn   \n",
       "1  Following clues to the origin of mankind, a te...          Ridley Scott   \n",
       "2  Three girls are kidnapped by a man with a diag...    M. Night Shyamalan   \n",
       "3  In a city of humanoid animals, a hustling thea...  Christophe Lourdelet   \n",
       "4  A secret government agency recruits some of th...            David Ayer   \n",
       "\n",
       "                                              Actors  Year  Runtime  Rating  \\\n",
       "0  Chris Pratt, Vin Diesel, Bradley Cooper, Zoe S...  2014      121     8.1   \n",
       "1  Noomi Rapace, Logan Marshall-Green, Michael Fa...  2012      124     7.0   \n",
       "2  James McAvoy, Anya Taylor-Joy, Haley Lu Richar...  2016      117     7.3   \n",
       "3  Matthew McConaughey,Reese Witherspoon, Seth Ma...  2016      108     7.2   \n",
       "4  Will Smith, Jared Leto, Margot Robbie, Viola D...  2016      123     6.2   \n",
       "\n",
       "    Votes  Revenue  Metascore   Runtime_levels  \n",
       "0  757074   333.13       76.0  Moderately Long  \n",
       "1  485820   126.46       65.0             Long  \n",
       "2  157606   138.12       62.0  Moderately Long  \n",
       "3   60545   270.32       59.0           Medium  \n",
       "4  393727   325.02       40.0  Moderately Long  "
      ]
     },
     "execution_count": 37,
     "metadata": {},
     "output_type": "execute_result"
    }
   ],
   "source": [
    "# Use the Pandas cut method to map the Runtime into the above levels\n",
    "runtime_bin_edges = [66, 100, 111, 123, 187]\n",
    "runtime_bin_names = ['Short', 'Medium', 'Moderately Long', 'Long']\n",
    "movies['Runtime_levels'] = pd.cut(movies.Runtime, runtime_bin_edges, labels=runtime_bin_names)\n",
    "movies.head()"
   ]
  },
  {
   "cell_type": "code",
   "execution_count": 38,
   "metadata": {},
   "outputs": [
    {
     "data": {
      "text/plain": [
       "Text(0.5,1.02,'Movies Count of each Runtime level')"
      ]
     },
     "execution_count": 38,
     "metadata": {},
     "output_type": "execute_result"
    },
    {
     "data": {
      "image/png": "[encoded data removed]",
      "text/plain": [
       "<matplotlib.figure.Figure at 0x7efe37471780>"
      ]
     },
     "metadata": {},
     "output_type": "display_data"
    }
   ],
   "source": [
    "# Plot the count of different Runtime levels\n",
    "ax = movies.Runtime_levels.value_counts().plot.bar();\n",
    "ax.set_ylabel('Movies Count');\n",
    "ax.set_xlabel('Runtime Levels')\n",
    "ax.set_xticklabels(movies.Runtime_levels.value_counts().index, rotation = 45);\n",
    "ax.set_title('Movies Count of each Runtime level', y=1.02)"
   ]
  },
  {
   "cell_type": "code",
   "execution_count": null,
   "metadata": {},
   "outputs": [],
   "source": [
    "<a id=section4.2.1></a>\n",
    "4.2.1 Which interval of Runtime receives higher revenue ?\n"
   ]
  },
  {
   "cell_type": "code",
   "execution_count": 40,
   "metadata": {},
   "outputs": [
    {
     "data": {
      "text/html": [
       "<div>\n",
       "<table border=\"1\" class=\"dataframe\">\n",
       "  <thead>\n",
       "    <tr style=\"text-align: right;\">\n",
       "      <th></th>\n",
       "      <th>Revenue</th>\n",
       "      <th>Rating</th>\n",
       "      <th>Metascore</th>\n",
       "    </tr>\n",
       "    <tr>\n",
       "      <th>Runtime_levels</th>\n",
       "      <th></th>\n",
       "      <th></th>\n",
       "      <th></th>\n",
       "    </tr>\n",
       "  </thead>\n",
       "  <tbody>\n",
       "    <tr>\n",
       "      <th>Short</th>\n",
       "      <td>57.173818</td>\n",
       "      <td>6.310909</td>\n",
       "      <td>56.456349</td>\n",
       "    </tr>\n",
       "    <tr>\n",
       "      <th>Medium</th>\n",
       "      <td>65.321980</td>\n",
       "      <td>6.588163</td>\n",
       "      <td>55.273913</td>\n",
       "    </tr>\n",
       "    <tr>\n",
       "      <th>Moderately Long</th>\n",
       "      <td>65.585665</td>\n",
       "      <td>6.853648</td>\n",
       "      <td>59.276018</td>\n",
       "    </tr>\n",
       "    <tr>\n",
       "      <th>Long</th>\n",
       "      <td>128.353367</td>\n",
       "      <td>7.188980</td>\n",
       "      <td>65.021552</td>\n",
       "    </tr>\n",
       "  </tbody>\n",
       "</table>\n",
       "</div>"
      ],
      "text/plain": [
       "                    Revenue    Rating  Metascore\n",
       "Runtime_levels                                  \n",
       "Short             57.173818  6.310909  56.456349\n",
       "Medium            65.321980  6.588163  55.273913\n",
       "Moderately Long   65.585665  6.853648  59.276018\n",
       "Long             128.353367  7.188980  65.021552"
      ]
     },
     "execution_count": 40,
     "metadata": {},
     "output_type": "execute_result"
    }
   ],
   "source": [
    "# Find out the Runtime level that receives the highest mean revenue, mean Rating and mean Metascore\n",
    "Runtime_stats = movies.groupby('Runtime_levels')['Revenue', 'Rating', 'Metascore'].mean()\n",
    "Runtime_stats"
   ]
  },
  {
   "cell_type": "code",
   "execution_count": 41,
   "metadata": {},
   "outputs": [
    {
     "data": {
      "image/png": "[encoded data removed]",
      "text/plain": [
       "<matplotlib.figure.Figure at 0x7efe3707d710>"
      ]
     },
     "metadata": {},
     "output_type": "display_data"
    }
   ],
   "source": [
    "# Plot the above results\n",
    "ax1, ax2, ax3 = runtime_stats.plot.bar(subplots=True);\n",
    "fig = ax1.get_figure()\n",
    "fig.set_size_inches(10, 10)\n",
    "ax1.set_title(\"\")\n",
    "ax2.set_title(\"\")\n",
    "ax3.set_title(\"\")\n",
    "ax3.set_xticklabels(runtime_stats.index, rotation = 45);"
   ]
  },
  {
   "cell_type": "code",
   "execution_count": null,
   "metadata": {},
   "outputs": [],
   "source": [
    "####1. In general, movies that have Long Runtimes (greater than 123 minutes) earns higher Revenue, more popular and critically acclaimed.\n",
    "2. As the Runtime increases the movies tends to earn higher Revenue, higher popularity and critical acclaim\n",
    "3. It should be noted that, movies with Runtime (greater than 123 minutes) beats other movies in terms of Revenue by a significant margin.\n",
    "####"
   ]
  },
  {
   "cell_type": "code",
   "execution_count": null,
   "metadata": {},
   "outputs": [],
   "source": [
    "<a id=section4.3></a>\n",
    "4.3 How does the Genre of a movie affect the outcome of the movie ?\n"
   ]
  },
  {
   "cell_type": "code",
   "execution_count": null,
   "metadata": {},
   "outputs": [],
   "source": [
    "<a id=section4.3.1></a>\n",
    "4.3.1 Does the total number of Genres in the movie affect the revenue, popularity, critical acclaim of the movie ?"
   ]
  },
  {
   "cell_type": "code",
   "execution_count": 44,
   "metadata": {},
   "outputs": [],
   "source": [
    "# The Genre column contains Genre combination as string separated by comma\n",
    "movies['Genre_count'] = movies.Genre.str.split(',').str.len()"
   ]
  },
  {
   "cell_type": "code",
   "execution_count": 45,
   "metadata": {},
   "outputs": [
    {
     "data": {
      "text/plain": [
       "0    3\n",
       "1    3\n",
       "2    2\n",
       "3    3\n",
       "4    3\n",
       "Name: Genre_count, dtype: int64"
      ]
     },
     "execution_count": 45,
     "metadata": {},
     "output_type": "execute_result"
    }
   ],
   "source": [
    "movies.Genre_count.head()"
   ]
  },
  {
   "cell_type": "code",
   "execution_count": 46,
   "metadata": {},
   "outputs": [
    {
     "data": {
      "text/html": [
       "<div>\n",
       "<table border=\"1\" class=\"dataframe\">\n",
       "  <thead>\n",
       "    <tr style=\"text-align: right;\">\n",
       "      <th></th>\n",
       "      <th>Revenue</th>\n",
       "      <th>Rating</th>\n",
       "      <th>Metascore</th>\n",
       "    </tr>\n",
       "    <tr>\n",
       "      <th>Genre_count</th>\n",
       "      <th></th>\n",
       "      <th></th>\n",
       "      <th></th>\n",
       "    </tr>\n",
       "  </thead>\n",
       "  <tbody>\n",
       "    <tr>\n",
       "      <th>1</th>\n",
       "      <td>47.460524</td>\n",
       "      <td>6.359048</td>\n",
       "      <td>58.793478</td>\n",
       "    </tr>\n",
       "    <tr>\n",
       "      <th>2</th>\n",
       "      <td>54.829255</td>\n",
       "      <td>6.686809</td>\n",
       "      <td>58.677273</td>\n",
       "    </tr>\n",
       "    <tr>\n",
       "      <th>3</th>\n",
       "      <td>91.836076</td>\n",
       "      <td>6.794091</td>\n",
       "      <td>59.121795</td>\n",
       "    </tr>\n",
       "  </tbody>\n",
       "</table>\n",
       "</div>"
      ],
      "text/plain": [
       "               Revenue    Rating  Metascore\n",
       "Genre_count                                \n",
       "1            47.460524  6.359048  58.793478\n",
       "2            54.829255  6.686809  58.677273\n",
       "3            91.836076  6.794091  59.121795"
      ]
     },
     "execution_count": 46,
     "metadata": {},
     "output_type": "execute_result"
    }
   ],
   "source": [
    "# Calculate the Average Revenue, Rating and Metascore of movies based on the Genre_count\n",
    "genre_count_stats = movies.groupby('Genre_count')['Revenue', 'Rating', 'Metascore'].mean()\n",
    "genre_count_stats"
   ]
  },
  {
   "cell_type": "code",
   "execution_count": 47,
   "metadata": {},
   "outputs": [
    {
     "data": {
      "image/png": "[encoded data removed]",
      "text/plain": [
       "<matplotlib.figure.Figure at 0x7efe369cf400>"
      ]
     },
     "metadata": {},
     "output_type": "display_data"
    }
   ],
   "source": [
    "# Plot the results above\n",
    "ax1, ax2, ax3 = genre_count_stats.plot.bar(subplots=True);\n",
    "fig = ax1.get_figure()\n",
    "fig.set_size_inches(10, 10)\n",
    "ax1.set_ylabel(\"Revenue\")\n",
    "ax1.legend(\"\")\n",
    "ax1.set_title(\"\")\n",
    "ax2.set_ylabel(\"Rating\")\n",
    "ax2.legend(\"\")\n",
    "ax2.set_title(\"\")\n",
    "ax3.set_ylabel(\"Metascore\")\n",
    "ax3.legend(\"\")\n",
    "ax3.set_title(\"\")\n",
    "ax3.set_xticklabels(genre_count_stats.index, rotation = 0.05);"
   ]
  },
  {
   "cell_type": "code",
   "execution_count": null,
   "metadata": {},
   "outputs": [],
   "source": [
    "####  1. Very interesting: The number of Genres in the movie increase the Revenue of the movie significantly. On average, a movie with 3 Genres tends to earn double the revenue than a movie with only 1 Genre.\n",
    "2. Interestingly, the number of Genres in a movie does not impact IMDB Rating or Metascore significantly. However both the IMDB Rating and Metascore are on the rise when Genre count increases.\n",
    "3. If we think about the finding a little carefully, the Genres do not show up explicitly in a movie. Viewers are unaware of it while seeing the movie. But the number of Genres do have an impact overall to a viewer. However, when a viewer sits down to rate the movie, he does not rate based on the number of Genres in the movie. He rates it based on his likeness for the movie overall.\n",
    "####"
   ]
  },
  {
   "cell_type": "code",
   "execution_count": null,
   "metadata": {},
   "outputs": [],
   "source": [
    "<a id=section4.3></a>\n",
    "4.3 How does the Genre of a movie affect the outcome of the movie ? <br>"
   ]
  },
  {
   "cell_type": "code",
   "execution_count": null,
   "metadata": {},
   "outputs": [],
   "source": [
    "<a id=section4.3.1></a>\n",
    "4.3.1 What are the Genres that that bring higher Revenue, higher rating and higher critical acclaim for a movie?"
   ]
  },
  {
   "cell_type": "code",
   "execution_count": null,
   "metadata": {},
   "outputs": [],
   "source": [
    "####Since we know that a Genre count of 3 brings the best out a movie, lets find out which combination of 3 Genres earns more Revenue, rating and critical acclaim####"
   ]
  },
  {
   "cell_type": "code",
   "execution_count": 48,
   "metadata": {},
   "outputs": [],
   "source": [
    "genre_3_df = movies[movies.Genre_count == 3]"
   ]
  },
  {
   "cell_type": "code",
   "execution_count": 49,
   "metadata": {},
   "outputs": [],
   "source": [
    "genre_3_df = genre_3_df.groupby('Genre')['Revenue', 'Rating', 'Metascore'].mean()"
   ]
  },
  {
   "cell_type": "code",
   "execution_count": 50,
   "metadata": {},
   "outputs": [
    {
     "data": {
      "image/png": "[encoded data removed]",
      "text/plain": [
       "<matplotlib.figure.Figure at 0x7efe368d6a20>"
      ]
     },
     "metadata": {},
     "output_type": "display_data"
    }
   ],
   "source": [
    "ax = genre_3_df.Revenue.sort_values(ascending=False).head(5).plot.barh();\n",
    "ax.set_xlabel('Revenue');"
   ]
  },
  {
   "cell_type": "code",
   "execution_count": 51,
   "metadata": {},
   "outputs": [
    {
     "data": {
      "image/png": "[encoded data removed]",
      "text/plain": [
       "<matplotlib.figure.Figure at 0x7efe369e4198>"
      ]
     },
     "metadata": {},
     "output_type": "display_data"
    }
   ],
   "source": [
    "ax = genre_3_df.Rating.sort_values(ascending=False).head(5).plot.barh();\n",
    "ax.set_xlabel('Rating');"
   ]
  },
  {
   "cell_type": "code",
   "execution_count": 52,
   "metadata": {},
   "outputs": [
    {
     "data": {
      "image/png": "[encoded data removed]",
      "text/plain": [
       "<matplotlib.figure.Figure at 0x7efe355e52e8>"
      ]
     },
     "metadata": {},
     "output_type": "display_data"
    }
   ],
   "source": [
    "ax = genre_3_df.Metascore.sort_values(ascending=False).head(5).plot.barh();\n",
    "ax.set_xlabel('Metascore');"
   ]
  },
  {
   "cell_type": "code",
   "execution_count": null,
   "metadata": {},
   "outputs": [],
   "source": [
    "####\n",
    "1. The combination of Genres: Animation, Drama and Fantasy produces the highest Revenue.\n",
    "2. The combination of Genres: Animation, Drama and Fantasy produces the highest Rating.\n",
    "3. However, critics mostly like movies which contains the combination of Drama, Fantasy and War\n",
    "####"
   ]
  },
  {
   "cell_type": "code",
   "execution_count": null,
   "metadata": {},
   "outputs": [],
   "source": [
    "<a id=section4.4></a>\n",
    "4.4. Is the growth of the movie industry on the rise ?<br>"
   ]
  },
  {
   "cell_type": "code",
   "execution_count": null,
   "metadata": {},
   "outputs": [],
   "source": [
    "<a id=section4.4.1></a>\n",
    "4.4.1 Is the number of movies increasing over the years ?<br>"
   ]
  },
  {
   "cell_type": "code",
   "execution_count": 53,
   "metadata": {},
   "outputs": [],
   "source": [
    "movies_year = movies.groupby('Year')['Rank'].count()"
   ]
  },
  {
   "cell_type": "code",
   "execution_count": 54,
   "metadata": {},
   "outputs": [
    {
     "data": {
      "text/plain": [
       "Year\n",
       "2006    44\n",
       "2007    53\n",
       "2008    52\n",
       "2009    51\n",
       "2010    60\n",
       "Name: Rank, dtype: int64"
      ]
     },
     "execution_count": 54,
     "metadata": {},
     "output_type": "execute_result"
    }
   ],
   "source": [
    "movies_year.head()"
   ]
  },
  {
   "cell_type": "code",
   "execution_count": 55,
   "metadata": {},
   "outputs": [
    {
     "data": {
      "text/plain": [
       "Text(0,0.5,'Movies Count')"
      ]
     },
     "execution_count": 55,
     "metadata": {},
     "output_type": "execute_result"
    },
    {
     "data": {
      "image/png": "[encoded data removed]",
      "text/plain": [
       "<matplotlib.figure.Figure at 0x7efe355c76d8>"
      ]
     },
     "metadata": {},
     "output_type": "display_data"
    }
   ],
   "source": [
    "# Plot the movies count per year\n",
    "ax = movies_year.plot.line();\n",
    "ax.set_title('Movies count per Year', y=1.04)\n",
    "ax.set_ylabel('Movies Count')"
   ]
  },
  {
   "cell_type": "code",
   "execution_count": null,
   "metadata": {},
   "outputs": [],
   "source": [
    "####\n",
    "1. The number of movies released over the last 10 years period is showing an upward trend.\n",
    "2. There is dramatic increase(more than double) in the number of movies released in 2016, when compared to the number of movies released in 2015"
   ]
  },
  {
   "cell_type": "code",
   "execution_count": null,
   "metadata": {},
   "outputs": [],
   "source": [
    "<a id=section4.3.2></a>\n",
    "4.4.2 Is the revenue from movies increasing over the years ?"
   ]
  },
  {
   "cell_type": "code",
   "execution_count": 56,
   "metadata": {},
   "outputs": [],
   "source": [
    "movies_revenue = movies.groupby('Year')['Revenue'].sum()"
   ]
  },
  {
   "cell_type": "code",
   "execution_count": 57,
   "metadata": {},
   "outputs": [
    {
     "data": {
      "text/plain": [
       "Year\n",
       "2006    3720.430\n",
       "2007    4498.170\n",
       "2008    5101.205\n",
       "2009    5484.200\n",
       "2010    6133.605\n",
       "Name: Revenue, dtype: float64"
      ]
     },
     "execution_count": 57,
     "metadata": {},
     "output_type": "execute_result"
    }
   ],
   "source": [
    "movies_revenue.head()"
   ]
  },
  {
   "cell_type": "code",
   "execution_count": 58,
   "metadata": {},
   "outputs": [
    {
     "data": {
      "image/png": "[encoded data removed]",
      "text/plain": [
       "<matplotlib.figure.Figure at 0x7efe34b45438>"
      ]
     },
     "metadata": {},
     "output_type": "display_data"
    }
   ],
   "source": [
    "# Plot the Revenue for each year\n",
    "ax = movies_revenue.plot.line();\n",
    "ax.set_title('Movie Revenue per Year', y=1.04)\n",
    "ax.set_ylabel('Revenue (in Millions)');"
   ]
  },
  {
   "cell_type": "code",
   "execution_count": null,
   "metadata": {},
   "outputs": [],
   "source": [
    "####\n",
    "1. The revenue from movies over the last 10 year period is showing an upward trend.\n",
    "2. There is dramatic increase in the revenue from movies released in 2016, when compared to the revenue from movies released in 2015. This is correlating with the dramatic increase in the number of movies released in 2016 when compared to 2015, as shown in the section 4.4.1\n",
    "####"
   ]
  },
  {
   "cell_type": "code",
   "execution_count": null,
   "metadata": {},
   "outputs": [],
   "source": [
    "<a id=section 4.4.2.1></a>\n",
    "4.4.2.1 Is the average revenue of the movies increasing over the years ?\n"
   ]
  },
  {
   "cell_type": "code",
   "execution_count": 59,
   "metadata": {},
   "outputs": [
    {
     "data": {
      "image/png": "[encoded data removed]",
      "text/plain": [
       "<matplotlib.figure.Figure at 0x7efe34fb8a58>"
      ]
     },
     "metadata": {},
     "output_type": "display_data"
    }
   ],
   "source": [
    "movies_avg_revenue = movies.groupby('Year')['Revenue'].mean()\n",
    "ax = movies_avg_revenue.plot.line();\n",
    "ax.set_title('Average Movie Revenue per Year', y=1.04)\n",
    "ax.set_ylabel('Revenue (in Millions)');"
   ]
  },
  {
   "cell_type": "code",
   "execution_count": null,
   "metadata": {},
   "outputs": [],
   "source": [
    "####\n",
    "1. Why is the average revenue of movies per year decreasing, while the total revenue of movies is increasing over the years?\n",
    "2. This is most probably because of the fact the total number of movies released per year is increasing. This trend indicates, more producers are coming into the industry and there is huge competition in the industry. As a result, in a year, multiple movies gets released around the same time and the revenue gets distributed among them. So the average revenue of movies in a year also decreases.\n",
    "3. So probably finding the Director only by the Average Revenue, Average Rating, Average Metascore may not be a good idea. For example James Cameron has only directed a single movie (Avatar in 2009) in the last 10 years. In that year(2009), only 50 movies were released, according to the 'Movies Count per Year' line graph (above). But in 2016, the trend has changed: The number of movies released in 2016 is around 5 times that of movies in 2009.\n",
    "4. So we need to find out the Directors who are more active in terms of directing more movies. Among them we need to find out directors who earn more revenue, rating and metascore. So let's do that below\n",
    "####"
   ]
  },
  {
   "cell_type": "code",
   "execution_count": null,
   "metadata": {},
   "outputs": [],
   "source": [
    "# Lets take the list of all directors who have directed total number of movies of 5 or more.\n",
    "most_active_directors = movies['Director'].value_counts()[movies['Director'].value_counts() >= 5]\n",
    "most_active_directors"
   ]
  },
  {
   "cell_type": "code",
   "execution_count": null,
   "metadata": {},
   "outputs": [],
   "source": [
    "# Find out the movies of these active directors\n",
    "active_director_movies = movies[movies.Director.isin(most_active_directors.index.tolist())]\n",
    "active_director_movies.head()"
   ]
  },
  {
   "cell_type": "code",
   "execution_count": 62,
   "metadata": {},
   "outputs": [
    {
     "data": {
      "text/html": [
       "<div>\n",
       "<table border=\"1\" class=\"dataframe\">\n",
       "  <thead>\n",
       "    <tr style=\"text-align: right;\">\n",
       "      <th></th>\n",
       "      <th>Revenue</th>\n",
       "      <th>Rating</th>\n",
       "      <th>Metascore</th>\n",
       "    </tr>\n",
       "    <tr>\n",
       "      <th>Director</th>\n",
       "      <th></th>\n",
       "      <th></th>\n",
       "      <th></th>\n",
       "    </tr>\n",
       "  </thead>\n",
       "  <tbody>\n",
       "    <tr>\n",
       "      <th>Antoine Fuqua</th>\n",
       "      <td>78.642000</td>\n",
       "      <td>7.040000</td>\n",
       "      <td>52.400000</td>\n",
       "    </tr>\n",
       "    <tr>\n",
       "      <th>Christopher Nolan</th>\n",
       "      <td>303.018000</td>\n",
       "      <td>8.680000</td>\n",
       "      <td>74.800000</td>\n",
       "    </tr>\n",
       "    <tr>\n",
       "      <th>Danny Boyle</th>\n",
       "      <td>36.680000</td>\n",
       "      <td>7.420000</td>\n",
       "      <td>75.000000</td>\n",
       "    </tr>\n",
       "    <tr>\n",
       "      <th>David Fincher</th>\n",
       "      <td>105.544000</td>\n",
       "      <td>7.820000</td>\n",
       "      <td>78.600000</td>\n",
       "    </tr>\n",
       "    <tr>\n",
       "      <th>David Yates</th>\n",
       "      <td>271.751667</td>\n",
       "      <td>7.433333</td>\n",
       "      <td>68.500000</td>\n",
       "    </tr>\n",
       "    <tr>\n",
       "      <th>Denis Villeneuve</th>\n",
       "      <td>43.242000</td>\n",
       "      <td>7.760000</td>\n",
       "      <td>75.600000</td>\n",
       "    </tr>\n",
       "    <tr>\n",
       "      <th>J.J. Abrams</th>\n",
       "      <td>336.690000</td>\n",
       "      <td>7.580000</td>\n",
       "      <td>74.600000</td>\n",
       "    </tr>\n",
       "    <tr>\n",
       "      <th>Justin Lin</th>\n",
       "      <td>164.958000</td>\n",
       "      <td>6.820000</td>\n",
       "      <td>57.200000</td>\n",
       "    </tr>\n",
       "    <tr>\n",
       "      <th>M. Night Shyamalan</th>\n",
       "      <td>69.745833</td>\n",
       "      <td>5.533333</td>\n",
       "      <td>40.000000</td>\n",
       "    </tr>\n",
       "    <tr>\n",
       "      <th>Martin Scorsese</th>\n",
       "      <td>91.622000</td>\n",
       "      <td>7.920000</td>\n",
       "      <td>77.000000</td>\n",
       "    </tr>\n",
       "    <tr>\n",
       "      <th>Michael Bay</th>\n",
       "      <td>236.886667</td>\n",
       "      <td>6.483333</td>\n",
       "      <td>43.833333</td>\n",
       "    </tr>\n",
       "    <tr>\n",
       "      <th>Paul W.S. Anderson</th>\n",
       "      <td>34.820000</td>\n",
       "      <td>5.766667</td>\n",
       "      <td>40.333333</td>\n",
       "    </tr>\n",
       "    <tr>\n",
       "      <th>Peter Berg</th>\n",
       "      <td>102.266000</td>\n",
       "      <td>6.860000</td>\n",
       "      <td>57.400000</td>\n",
       "    </tr>\n",
       "    <tr>\n",
       "      <th>Ridley Scott</th>\n",
       "      <td>89.882500</td>\n",
       "      <td>6.850000</td>\n",
       "      <td>59.750000</td>\n",
       "    </tr>\n",
       "    <tr>\n",
       "      <th>Woody Allen</th>\n",
       "      <td>28.238000</td>\n",
       "      <td>7.020000</td>\n",
       "      <td>69.400000</td>\n",
       "    </tr>\n",
       "    <tr>\n",
       "      <th>Zack Snyder</th>\n",
       "      <td>195.148000</td>\n",
       "      <td>7.040000</td>\n",
       "      <td>48.000000</td>\n",
       "    </tr>\n",
       "  </tbody>\n",
       "</table>\n",
       "</div>"
      ],
      "text/plain": [
       "                       Revenue    Rating  Metascore\n",
       "Director                                           \n",
       "Antoine Fuqua        78.642000  7.040000  52.400000\n",
       "Christopher Nolan   303.018000  8.680000  74.800000\n",
       "Danny Boyle          36.680000  7.420000  75.000000\n",
       "David Fincher       105.544000  7.820000  78.600000\n",
       "David Yates         271.751667  7.433333  68.500000\n",
       "Denis Villeneuve     43.242000  7.760000  75.600000\n",
       "J.J. Abrams         336.690000  7.580000  74.600000\n",
       "Justin Lin          164.958000  6.820000  57.200000\n",
       "M. Night Shyamalan   69.745833  5.533333  40.000000\n",
       "Martin Scorsese      91.622000  7.920000  77.000000\n",
       "Michael Bay         236.886667  6.483333  43.833333\n",
       "Paul W.S. Anderson   34.820000  5.766667  40.333333\n",
       "Peter Berg          102.266000  6.860000  57.400000\n",
       "Ridley Scott         89.882500  6.850000  59.750000\n",
       "Woody Allen          28.238000  7.020000  69.400000\n",
       "Zack Snyder         195.148000  7.040000  48.000000"
      ]
     },
     "execution_count": 62,
     "metadata": {},
     "output_type": "execute_result"
    }
   ],
   "source": [
    "# Find out the Average Revenue, Rating and Metascore of movies directed by the above Directors\n",
    "active_director_stats = active_director_movies.groupby('Director')['Revenue', 'Rating', 'Metascore'].mean()\n",
    "active_director_stats"
   ]
  },
  {
   "cell_type": "code",
   "execution_count": 64,
   "metadata": {},
   "outputs": [
    {
     "data": {
      "text/html": [
       "<div>\n",
       "<table border=\"1\" class=\"dataframe\">\n",
       "  <thead>\n",
       "    <tr style=\"text-align: right;\">\n",
       "      <th></th>\n",
       "      <th>Revenue</th>\n",
       "      <th>Rating</th>\n",
       "      <th>Metascore</th>\n",
       "    </tr>\n",
       "    <tr>\n",
       "      <th>Director</th>\n",
       "      <th></th>\n",
       "      <th></th>\n",
       "      <th></th>\n",
       "    </tr>\n",
       "  </thead>\n",
       "  <tbody>\n",
       "    <tr>\n",
       "      <th>J.J. Abrams</th>\n",
       "      <td>336.690000</td>\n",
       "      <td>7.580000</td>\n",
       "      <td>74.600000</td>\n",
       "    </tr>\n",
       "    <tr>\n",
       "      <th>Christopher Nolan</th>\n",
       "      <td>303.018000</td>\n",
       "      <td>8.680000</td>\n",
       "      <td>74.800000</td>\n",
       "    </tr>\n",
       "    <tr>\n",
       "      <th>David Yates</th>\n",
       "      <td>271.751667</td>\n",
       "      <td>7.433333</td>\n",
       "      <td>68.500000</td>\n",
       "    </tr>\n",
       "    <tr>\n",
       "      <th>Michael Bay</th>\n",
       "      <td>236.886667</td>\n",
       "      <td>6.483333</td>\n",
       "      <td>43.833333</td>\n",
       "    </tr>\n",
       "    <tr>\n",
       "      <th>Zack Snyder</th>\n",
       "      <td>195.148000</td>\n",
       "      <td>7.040000</td>\n",
       "      <td>48.000000</td>\n",
       "    </tr>\n",
       "  </tbody>\n",
       "</table>\n",
       "</div>"
      ],
      "text/plain": [
       "                      Revenue    Rating  Metascore\n",
       "Director                                          \n",
       "J.J. Abrams        336.690000  7.580000  74.600000\n",
       "Christopher Nolan  303.018000  8.680000  74.800000\n",
       "David Yates        271.751667  7.433333  68.500000\n",
       "Michael Bay        236.886667  6.483333  43.833333\n",
       "Zack Snyder        195.148000  7.040000  48.000000"
      ]
     },
     "execution_count": 64,
     "metadata": {},
     "output_type": "execute_result"
    }
   ],
   "source": [
    "# Lets find out the top 5 active directors by average revenue\n",
    "top_5_active_directors_by_revenue = active_director_stats.sort_values('Revenue', ascending=False)\n",
    "top_5_active_directors_by_revenue[:5]"
   ]
  },
  {
   "cell_type": "code",
   "execution_count": 65,
   "metadata": {},
   "outputs": [
    {
     "data": {
      "image/png": "[encoded data removed]",
      "text/plain": [
       "<matplotlib.figure.Figure at 0x7efe34f7c4e0>"
      ]
     },
     "metadata": {},
     "output_type": "display_data"
    }
   ],
   "source": [
    "ax = top_5_active_directors_by_revenue[:5].Revenue.plot.barh();\n",
    "ax.set_title(\"Top 5 active directors by Average Revenue\")\n",
    "ax.set_xlabel('Average Revenue');"
   ]
  },
  {
   "cell_type": "code",
   "execution_count": 66,
   "metadata": {},
   "outputs": [
    {
     "data": {
      "text/html": [
       "<div>\n",
       "<table border=\"1\" class=\"dataframe\">\n",
       "  <thead>\n",
       "    <tr style=\"text-align: right;\">\n",
       "      <th></th>\n",
       "      <th>Revenue</th>\n",
       "      <th>Rating</th>\n",
       "      <th>Metascore</th>\n",
       "    </tr>\n",
       "    <tr>\n",
       "      <th>Director</th>\n",
       "      <th></th>\n",
       "      <th></th>\n",
       "      <th></th>\n",
       "    </tr>\n",
       "  </thead>\n",
       "  <tbody>\n",
       "    <tr>\n",
       "      <th>Christopher Nolan</th>\n",
       "      <td>303.018</td>\n",
       "      <td>8.68</td>\n",
       "      <td>74.8</td>\n",
       "    </tr>\n",
       "    <tr>\n",
       "      <th>Martin Scorsese</th>\n",
       "      <td>91.622</td>\n",
       "      <td>7.92</td>\n",
       "      <td>77.0</td>\n",
       "    </tr>\n",
       "    <tr>\n",
       "      <th>David Fincher</th>\n",
       "      <td>105.544</td>\n",
       "      <td>7.82</td>\n",
       "      <td>78.6</td>\n",
       "    </tr>\n",
       "    <tr>\n",
       "      <th>Denis Villeneuve</th>\n",
       "      <td>43.242</td>\n",
       "      <td>7.76</td>\n",
       "      <td>75.6</td>\n",
       "    </tr>\n",
       "    <tr>\n",
       "      <th>J.J. Abrams</th>\n",
       "      <td>336.690</td>\n",
       "      <td>7.58</td>\n",
       "      <td>74.6</td>\n",
       "    </tr>\n",
       "  </tbody>\n",
       "</table>\n",
       "</div>"
      ],
      "text/plain": [
       "                   Revenue  Rating  Metascore\n",
       "Director                                     \n",
       "Christopher Nolan  303.018    8.68       74.8\n",
       "Martin Scorsese     91.622    7.92       77.0\n",
       "David Fincher      105.544    7.82       78.6\n",
       "Denis Villeneuve    43.242    7.76       75.6\n",
       "J.J. Abrams        336.690    7.58       74.6"
      ]
     },
     "execution_count": 66,
     "metadata": {},
     "output_type": "execute_result"
    }
   ],
   "source": [
    "# Lets find out the top 5 active directors by average rating\n",
    "top_5_active_directors_by_rating = active_director_stats.sort_values('Rating', ascending=False)\n",
    "top_5_active_directors_by_rating[:5]"
   ]
  },
  {
   "cell_type": "code",
   "execution_count": 67,
   "metadata": {},
   "outputs": [
    {
     "data": {
      "image/png": "[encoded data removed]",
      "text/plain": [
       "<matplotlib.figure.Figure at 0x7efe35987080>"
      ]
     },
     "metadata": {},
     "output_type": "display_data"
    }
   ],
   "source": [
    "ax = top_5_active_directors_by_rating[:5].Rating.plot.barh();\n",
    "ax.set_title(\"Top 5 active directors by Average Rating\")\n",
    "ax.set_xlabel('Average Rating');\n",
    "\n"
   ]
  },
  {
   "cell_type": "code",
   "execution_count": 69,
   "metadata": {},
   "outputs": [
    {
     "data": {
      "text/html": [
       "<div>\n",
       "<table border=\"1\" class=\"dataframe\">\n",
       "  <thead>\n",
       "    <tr style=\"text-align: right;\">\n",
       "      <th></th>\n",
       "      <th>Revenue</th>\n",
       "      <th>Rating</th>\n",
       "      <th>Metascore</th>\n",
       "    </tr>\n",
       "    <tr>\n",
       "      <th>Director</th>\n",
       "      <th></th>\n",
       "      <th></th>\n",
       "      <th></th>\n",
       "    </tr>\n",
       "  </thead>\n",
       "  <tbody>\n",
       "    <tr>\n",
       "      <th>David Fincher</th>\n",
       "      <td>105.544</td>\n",
       "      <td>7.82</td>\n",
       "      <td>78.6</td>\n",
       "    </tr>\n",
       "    <tr>\n",
       "      <th>Martin Scorsese</th>\n",
       "      <td>91.622</td>\n",
       "      <td>7.92</td>\n",
       "      <td>77.0</td>\n",
       "    </tr>\n",
       "    <tr>\n",
       "      <th>Denis Villeneuve</th>\n",
       "      <td>43.242</td>\n",
       "      <td>7.76</td>\n",
       "      <td>75.6</td>\n",
       "    </tr>\n",
       "    <tr>\n",
       "      <th>Danny Boyle</th>\n",
       "      <td>36.680</td>\n",
       "      <td>7.42</td>\n",
       "      <td>75.0</td>\n",
       "    </tr>\n",
       "    <tr>\n",
       "      <th>Christopher Nolan</th>\n",
       "      <td>303.018</td>\n",
       "      <td>8.68</td>\n",
       "      <td>74.8</td>\n",
       "    </tr>\n",
       "  </tbody>\n",
       "</table>\n",
       "</div>"
      ],
      "text/plain": [
       "                   Revenue  Rating  Metascore\n",
       "Director                                     \n",
       "David Fincher      105.544    7.82       78.6\n",
       "Martin Scorsese     91.622    7.92       77.0\n",
       "Denis Villeneuve    43.242    7.76       75.6\n",
       "Danny Boyle         36.680    7.42       75.0\n",
       "Christopher Nolan  303.018    8.68       74.8"
      ]
     },
     "execution_count": 69,
     "metadata": {},
     "output_type": "execute_result"
    }
   ],
   "source": [
    "# Lets find out the top 5 active directors by average metascore\n",
    "top_5_active_directors_by_metascore = active_director_stats.sort_values('Metascore', ascending=False)\n",
    "top_5_active_directors_by_metascore[:5]"
   ]
  },
  {
   "cell_type": "code",
   "execution_count": 70,
   "metadata": {},
   "outputs": [
    {
     "data": {
      "image/png": "[encoded data removed]",
      "text/plain": [
       "<matplotlib.figure.Figure at 0x7efe34fa2c18>"
      ]
     },
     "metadata": {},
     "output_type": "display_data"
    }
   ],
   "source": [
    "ax = top_5_active_directors_by_metascore[:5].Metascore.plot.barh();\n",
    "ax.set_title(\"Top 5 active directors by Average Metascore\")\n",
    "ax.set_xlabel('Average Metascore');"
   ]
  },
  {
   "cell_type": "code",
   "execution_count": null,
   "metadata": {},
   "outputs": [],
   "source": [
    "<a id=section 4.4.3></a>\n",
    "4.4.3 Is the popularity of the movies increasing over the years?"
   ]
  },
  {
   "cell_type": "code",
   "execution_count": 71,
   "metadata": {},
   "outputs": [
    {
     "data": {
      "text/plain": [
       "Year\n",
       "2006    7.125000\n",
       "2007    7.133962\n",
       "2008    6.784615\n",
       "2009    6.960784\n",
       "2010    6.826667\n",
       "Name: Rating, dtype: float64"
      ]
     },
     "execution_count": 71,
     "metadata": {},
     "output_type": "execute_result"
    }
   ],
   "source": [
    "movies_rating = movies.groupby('Year')['Rating'].mean()\n",
    "movies_rating.head()"
   ]
  },
  {
   "cell_type": "code",
   "execution_count": 72,
   "metadata": {},
   "outputs": [
    {
     "data": {
      "image/png": "[encoded data removed]",
      "text/plain": [
       "<matplotlib.figure.Figure at 0x7efe34be8eb8>"
      ]
     },
     "metadata": {},
     "output_type": "display_data"
    }
   ],
   "source": [
    "ax = movies_rating.plot.line();\n",
    "ax.set_title('Average Movie Rating per Year', y=1.04)\n",
    "ax.set_ylabel('Rating');"
   ]
  },
  {
   "cell_type": "code",
   "execution_count": null,
   "metadata": {},
   "outputs": [],
   "source": [
    "#### Let's analyze the Genres, Runtime levels for the movies in 2016 ####"
   ]
  },
  {
   "cell_type": "code",
   "execution_count": 75,
   "metadata": {},
   "outputs": [
    {
     "data": {
      "text/plain": [
       "3    171\n",
       "2     70\n",
       "1     56\n",
       "Name: Genre_count, dtype: int64"
      ]
     },
     "execution_count": 75,
     "metadata": {},
     "output_type": "execute_result"
    }
   ],
   "source": [
    "movies.query('Year == 2016').Genre_count.value_counts()"
   ]
  },
  {
   "cell_type": "code",
   "execution_count": 76,
   "metadata": {},
   "outputs": [
    {
     "data": {
      "text/plain": [
       "Drama                         25\n",
       "Comedy                        15\n",
       "Horror,Thriller               11\n",
       "Comedy,Drama                  11\n",
       "Animation,Adventure,Comedy    10\n",
       "Crime,Drama,Thriller           9\n",
       "Comedy,Drama,Romance           8\n",
       "Action,Adventure,Sci-Fi        7\n",
       "Action,Adventure,Fantasy       7\n",
       "Action,Crime,Drama             7\n",
       "Name: Genre, dtype: int64"
      ]
     },
     "execution_count": 76,
     "metadata": {},
     "output_type": "execute_result"
    }
   ],
   "source": [
    "movies.query('Year == 2016').Genre.value_counts().head(10)"
   ]
  },
  {
   "cell_type": "code",
   "execution_count": null,
   "metadata": {},
   "outputs": [],
   "source": [
    "####\n",
    "The 3 most popular Genre combinations are (as found in section 4.3.2):\n",
    "'Animation,Drama, Fantasy'\n",
    "'Drama,Family,Music'\n",
    "'Animation,Comedy,Drama'\n",
    "Let's analyze the movie counts of these Genre combinations in 2016\n",
    "####"
   ]
  },
  {
   "cell_type": "code",
   "execution_count": 77,
   "metadata": {},
   "outputs": [
    {
     "data": {
      "text/plain": [
       "1"
      ]
     },
     "execution_count": 77,
     "metadata": {},
     "output_type": "execute_result"
    }
   ],
   "source": [
    "movies.query('Year == 2016').Genre.value_counts().loc['Animation,Drama,Fantasy']"
   ]
  },
  {
   "cell_type": "code",
   "execution_count": 78,
   "metadata": {},
   "outputs": [
    {
     "data": {
      "text/plain": [
       "False"
      ]
     },
     "execution_count": 78,
     "metadata": {},
     "output_type": "execute_result"
    }
   ],
   "source": [
    "'Drama,Family,Music' in movies.query('Year == 2016').Genre.value_counts().index"
   ]
  },
  {
   "cell_type": "code",
   "execution_count": 79,
   "metadata": {},
   "outputs": [
    {
     "data": {
      "text/plain": [
       "True"
      ]
     },
     "execution_count": 79,
     "metadata": {},
     "output_type": "execute_result"
    }
   ],
   "source": [
    "'Animation,Comedy,Drama' in movies.query('Year == 2016').Genre.value_counts().index"
   ]
  },
  {
   "cell_type": "code",
   "execution_count": 80,
   "metadata": {},
   "outputs": [
    {
     "data": {
      "text/plain": [
       "1"
      ]
     },
     "execution_count": 80,
     "metadata": {},
     "output_type": "execute_result"
    }
   ],
   "source": [
    "movies.query('Year == 2016').Genre.value_counts().loc['Animation,Comedy,Drama']"
   ]
  },
  {
   "cell_type": "code",
   "execution_count": 176,
   "metadata": {},
   "outputs": [],
   "source": [
    "import itertools "
   ]
  },
  {
   "cell_type": "code",
   "execution_count": 177,
   "metadata": {},
   "outputs": [
    {
     "data": {
      "text/plain": [
       "{'Action',\n",
       " 'Adventure',\n",
       " 'Animation',\n",
       " 'Biography',\n",
       " 'Comedy',\n",
       " 'Crime',\n",
       " 'Drama',\n",
       " 'Family',\n",
       " 'Fantasy',\n",
       " 'History',\n",
       " 'Horror',\n",
       " 'Music',\n",
       " 'Musical',\n",
       " 'Mystery',\n",
       " 'Romance',\n",
       " 'Sci-Fi',\n",
       " 'Sport',\n",
       " 'Thriller',\n",
       " 'War',\n",
       " 'Western'}"
      ]
     },
     "execution_count": 177,
     "metadata": {},
     "output_type": "execute_result"
    }
   ],
   "source": [
    "#Since most of these films in the data set are part of multiple genres, we need to get a list\n",
    "#of entirely unique genres, without repeats, to see how many genres we are truly dealing with\n",
    "\n",
    "unique_genres = movies['Genre'].unique()\n",
    "individual_genres = []\n",
    "for genre in unique_genres:\n",
    "    individual_genres.append(genre.split(','))\n",
    "\n",
    "individual_genres = list(itertools.chain.from_iterable(individual_genres))\n",
    "individual_genres = set(individual_genres)\n",
    "\n",
    "individual_genres"
   ]
  },
  {
   "cell_type": "code",
   "execution_count": 181,
   "metadata": {},
   "outputs": [
    {
     "name": "stdout",
     "output_type": "stream",
     "text": [
      "History 2.9000000000000004\n",
      "Adventure 25.900000000000002\n",
      "Biography 8.1\n",
      "Action 30.3\n",
      "Comedy 27.900000000000002\n",
      "Family 5.1\n",
      "Crime 15.0\n",
      "Musical 0.5\n",
      "Thriller 19.5\n",
      "Drama 51.300000000000004\n",
      "War 1.3\n",
      "Horror 11.899999999999999\n",
      "Sport 1.7999999999999998\n",
      "Fantasy 10.100000000000001\n",
      "Romance 14.099999999999998\n",
      "Music 2.1\n",
      "Animation 4.9\n",
      "Western 0.7000000000000001\n",
      "Sci-Fi 12.0\n",
      "Mystery 10.6\n"
     ]
    }
   ],
   "source": [
    "#Determine the percent of total entries are attributed to each genre. Keep in mind that \n",
    "#since some films have multiple genres, these percentages won't add to 100%\n",
    "\n",
    "genre_pcts = np.zeros(len(individual_genres))\n",
    "i = 0\n",
    "for genre in individual_genres:\n",
    "    current_genre = movies['Genre'].str.contains(genre).fillna(False)\n",
    "    pct = len(movies[current_genre]) / 1000 * 100\n",
    "    genre_pcts[i] = pct\n",
    "    i += 1\n",
    "    print(genre, pct)"
   ]
  },
  {
   "cell_type": "code",
   "execution_count": 182,
   "metadata": {},
   "outputs": [
    {
     "data": {
      "text/html": [
       "<div>\n",
       "<table border=\"1\" class=\"dataframe\">\n",
       "  <thead>\n",
       "    <tr style=\"text-align: right;\">\n",
       "      <th></th>\n",
       "      <th>Percent</th>\n",
       "    </tr>\n",
       "  </thead>\n",
       "  <tbody>\n",
       "    <tr>\n",
       "      <th>History</th>\n",
       "      <td>2.9</td>\n",
       "    </tr>\n",
       "    <tr>\n",
       "      <th>Adventure</th>\n",
       "      <td>25.9</td>\n",
       "    </tr>\n",
       "    <tr>\n",
       "      <th>Biography</th>\n",
       "      <td>8.1</td>\n",
       "    </tr>\n",
       "    <tr>\n",
       "      <th>Action</th>\n",
       "      <td>30.3</td>\n",
       "    </tr>\n",
       "    <tr>\n",
       "      <th>Comedy</th>\n",
       "      <td>27.9</td>\n",
       "    </tr>\n",
       "    <tr>\n",
       "      <th>Family</th>\n",
       "      <td>5.1</td>\n",
       "    </tr>\n",
       "    <tr>\n",
       "      <th>Crime</th>\n",
       "      <td>15.0</td>\n",
       "    </tr>\n",
       "    <tr>\n",
       "      <th>Musical</th>\n",
       "      <td>0.5</td>\n",
       "    </tr>\n",
       "    <tr>\n",
       "      <th>Thriller</th>\n",
       "      <td>19.5</td>\n",
       "    </tr>\n",
       "    <tr>\n",
       "      <th>Drama</th>\n",
       "      <td>51.3</td>\n",
       "    </tr>\n",
       "    <tr>\n",
       "      <th>War</th>\n",
       "      <td>1.3</td>\n",
       "    </tr>\n",
       "    <tr>\n",
       "      <th>Horror</th>\n",
       "      <td>11.9</td>\n",
       "    </tr>\n",
       "    <tr>\n",
       "      <th>Sport</th>\n",
       "      <td>1.8</td>\n",
       "    </tr>\n",
       "    <tr>\n",
       "      <th>Fantasy</th>\n",
       "      <td>10.1</td>\n",
       "    </tr>\n",
       "    <tr>\n",
       "      <th>Romance</th>\n",
       "      <td>14.1</td>\n",
       "    </tr>\n",
       "    <tr>\n",
       "      <th>Music</th>\n",
       "      <td>2.1</td>\n",
       "    </tr>\n",
       "    <tr>\n",
       "      <th>Animation</th>\n",
       "      <td>4.9</td>\n",
       "    </tr>\n",
       "    <tr>\n",
       "      <th>Western</th>\n",
       "      <td>0.7</td>\n",
       "    </tr>\n",
       "    <tr>\n",
       "      <th>Sci-Fi</th>\n",
       "      <td>12.0</td>\n",
       "    </tr>\n",
       "    <tr>\n",
       "      <th>Mystery</th>\n",
       "      <td>10.6</td>\n",
       "    </tr>\n",
       "  </tbody>\n",
       "</table>\n",
       "</div>"
      ],
      "text/plain": [
       "           Percent\n",
       "History        2.9\n",
       "Adventure     25.9\n",
       "Biography      8.1\n",
       "Action        30.3\n",
       "Comedy        27.9\n",
       "Family         5.1\n",
       "Crime         15.0\n",
       "Musical        0.5\n",
       "Thriller      19.5\n",
       "Drama         51.3\n",
       "War            1.3\n",
       "Horror        11.9\n",
       "Sport          1.8\n",
       "Fantasy       10.1\n",
       "Romance       14.1\n",
       "Music          2.1\n",
       "Animation      4.9\n",
       "Western        0.7\n",
       "Sci-Fi        12.0\n",
       "Mystery       10.6"
      ]
     },
     "execution_count": 182,
     "metadata": {},
     "output_type": "execute_result"
    }
   ],
   "source": [
    "#Throw our genre percentage values into a DF for easy plotting\n",
    "\n",
    "genre_pcts_df = pd.DataFrame(genre_pcts, index=individual_genres, columns=['Percent'])\n",
    "genre_pcts_df"
   ]
  },
  {
   "cell_type": "code",
   "execution_count": 183,
   "metadata": {},
   "outputs": [
    {
     "data": {
      "text/plain": [
       "Text(0.5,1,'Percent of Total Movies Made from Top 5 Genres')"
      ]
     },
     "execution_count": 183,
     "metadata": {},
     "output_type": "execute_result"
    },
    {
     "data": {
      "image/png": "[encoded data removed]",
      "text/plain": [
       "<matplotlib.figure.Figure at 0x7efe34670320>"
      ]
     },
     "metadata": {},
     "output_type": "display_data"
    }
   ],
   "source": [
    "#Taking a sum of the total movies made from the top 5 genres,which contributed to the most in terms of movies made?\n",
    "\n",
    "explode = (0.05, 0.05, 0.08, 0.1, 0.12)\n",
    "colors = ['#ff3232', '#ff4c4c', '#ff6666', '#ff7f7f', '#ff9999', ]\n",
    "genre_pcts_df.sort_values(by='Percent', ascending=False).head(5).plot.pie(legend=False, subplots=True, autopct='%.2f%%', figsize=(8,8), colors=colors, explode=explode)\n",
    "plt.ylabel('')\n",
    "plt.title('Percent of Total Movies Made from Top 5 Genres', weight='bold', fontsize=16)"
   ]
  },
  {
   "cell_type": "code",
   "execution_count": 185,
   "metadata": {},
   "outputs": [
    {
     "name": "stdout",
     "output_type": "stream",
     "text": [
      "History 1.9367663421170518\n",
      "Adventure 49.93435910583126\n",
      "Biography 5.699576605720385\n",
      "Action 46.40818862987328\n",
      "Comedy 26.08063145737438\n",
      "Family 8.000225280211371\n",
      "Crime 11.460646554206646\n",
      "Musical 0.5201449948292582\n",
      "Thriller 16.132369453430464\n",
      "Drama 32.40869270708836\n",
      "War 0.8642770824275827\n",
      "Horror 5.9393445772963425\n",
      "Sport 1.4483300467227076\n",
      "Fantasy 16.113574865660105\n",
      "Romance 7.720064872545934\n",
      "Music 1.4809434347892785\n",
      "Animation 11.57424231689994\n",
      "Western 0.834721796777881\n",
      "Sci-Fi 19.61088450005887\n",
      "Mystery 7.234457321887186\n"
     ]
    }
   ],
   "source": [
    "#Same idea as above, but we can determine revenue percentage\n",
    "\n",
    "genre_revenue_pcts = np.zeros(len(individual_genres))\n",
    "i = 0\n",
    "for genre in individual_genres:\n",
    "    current_genre = movies['Genre'].str.contains(genre).fillna(False)\n",
    "    revenue_pct = movies[current_genre].xs('Revenue', axis=1).sum() / movies['Revenue'].sum() * 100\n",
    "    genre_revenue_pcts[i] = revenue_pct\n",
    "    i += 1\n",
    "    print(genre, revenue_pct)"
   ]
  },
  {
   "cell_type": "code",
   "execution_count": 186,
   "metadata": {},
   "outputs": [
    {
     "data": {
      "text/html": [
       "<div>\n",
       "<table border=\"1\" class=\"dataframe\">\n",
       "  <thead>\n",
       "    <tr style=\"text-align: right;\">\n",
       "      <th></th>\n",
       "      <th>Percent</th>\n",
       "    </tr>\n",
       "  </thead>\n",
       "  <tbody>\n",
       "    <tr>\n",
       "      <th>History</th>\n",
       "      <td>1.936766</td>\n",
       "    </tr>\n",
       "    <tr>\n",
       "      <th>Adventure</th>\n",
       "      <td>49.934359</td>\n",
       "    </tr>\n",
       "    <tr>\n",
       "      <th>Biography</th>\n",
       "      <td>5.699577</td>\n",
       "    </tr>\n",
       "    <tr>\n",
       "      <th>Action</th>\n",
       "      <td>46.408189</td>\n",
       "    </tr>\n",
       "    <tr>\n",
       "      <th>Comedy</th>\n",
       "      <td>26.080631</td>\n",
       "    </tr>\n",
       "    <tr>\n",
       "      <th>Family</th>\n",
       "      <td>8.000225</td>\n",
       "    </tr>\n",
       "    <tr>\n",
       "      <th>Crime</th>\n",
       "      <td>11.460647</td>\n",
       "    </tr>\n",
       "    <tr>\n",
       "      <th>Musical</th>\n",
       "      <td>0.520145</td>\n",
       "    </tr>\n",
       "    <tr>\n",
       "      <th>Thriller</th>\n",
       "      <td>16.132369</td>\n",
       "    </tr>\n",
       "    <tr>\n",
       "      <th>Drama</th>\n",
       "      <td>32.408693</td>\n",
       "    </tr>\n",
       "    <tr>\n",
       "      <th>War</th>\n",
       "      <td>0.864277</td>\n",
       "    </tr>\n",
       "    <tr>\n",
       "      <th>Horror</th>\n",
       "      <td>5.939345</td>\n",
       "    </tr>\n",
       "    <tr>\n",
       "      <th>Sport</th>\n",
       "      <td>1.448330</td>\n",
       "    </tr>\n",
       "    <tr>\n",
       "      <th>Fantasy</th>\n",
       "      <td>16.113575</td>\n",
       "    </tr>\n",
       "    <tr>\n",
       "      <th>Romance</th>\n",
       "      <td>7.720065</td>\n",
       "    </tr>\n",
       "    <tr>\n",
       "      <th>Music</th>\n",
       "      <td>1.480943</td>\n",
       "    </tr>\n",
       "    <tr>\n",
       "      <th>Animation</th>\n",
       "      <td>11.574242</td>\n",
       "    </tr>\n",
       "    <tr>\n",
       "      <th>Western</th>\n",
       "      <td>0.834722</td>\n",
       "    </tr>\n",
       "    <tr>\n",
       "      <th>Sci-Fi</th>\n",
       "      <td>19.610885</td>\n",
       "    </tr>\n",
       "    <tr>\n",
       "      <th>Mystery</th>\n",
       "      <td>7.234457</td>\n",
       "    </tr>\n",
       "  </tbody>\n",
       "</table>\n",
       "</div>"
      ],
      "text/plain": [
       "             Percent\n",
       "History     1.936766\n",
       "Adventure  49.934359\n",
       "Biography   5.699577\n",
       "Action     46.408189\n",
       "Comedy     26.080631\n",
       "Family      8.000225\n",
       "Crime      11.460647\n",
       "Musical     0.520145\n",
       "Thriller   16.132369\n",
       "Drama      32.408693\n",
       "War         0.864277\n",
       "Horror      5.939345\n",
       "Sport       1.448330\n",
       "Fantasy    16.113575\n",
       "Romance     7.720065\n",
       "Music       1.480943\n",
       "Animation  11.574242\n",
       "Western     0.834722\n",
       "Sci-Fi     19.610885\n",
       "Mystery     7.234457"
      ]
     },
     "execution_count": 186,
     "metadata": {},
     "output_type": "execute_result"
    }
   ],
   "source": [
    "genre_revenue_pcts_df = pd.DataFrame(genre_revenue_pcts, index=individual_genres, columns=['Percent'])\n",
    "genre_revenue_pcts_df"
   ]
  },
  {
   "cell_type": "code",
   "execution_count": 187,
   "metadata": {},
   "outputs": [
    {
     "data": {
      "text/plain": [
       "Text(0.5,1,'Percent of Total Revenue from Top 5 Genres')"
      ]
     },
     "execution_count": 187,
     "metadata": {},
     "output_type": "execute_result"
    },
    {
     "data": {
      "image/png": "[encoded data removed]",
      "text/plain": [
       "<matplotlib.figure.Figure at 0x7efe34b94cf8>"
      ]
     },
     "metadata": {},
     "output_type": "display_data"
    }
   ],
   "source": [
    "#Taking a sum of the revenue from the top 5 genres,\n",
    "#which contributed to the most in terms of revenue?\n",
    "\n",
    "explode = (0.05, 0.05, 0.08, 0.1, 0.12)\n",
    "colors = ['#ff3232', '#ff4c4c', '#ff6666', '#ff7f7f', '#ff9999', ]\n",
    "genre_revenue_pcts_df.sort_values(by='Percent', ascending=False).head(5).plot.pie(legend=False, subplots=True, autopct='%.2f%%', figsize=(8,8), colors=colors, explode=explode)\n",
    "plt.ylabel('')\n",
    "plt.title('Percent of Total Revenue from Top 5 Genres', weight='bold', fontsize=16)"
   ]
  },
  {
   "cell_type": "code",
   "execution_count": null,
   "metadata": {},
   "outputs": [],
   "source": [
    "#Taking the sum of the revenue of the films made by the top 10 directors, which contributed the most?\n",
    "\n",
    "explode = np.linspace(0, 0.5, 10)\n",
    "colors = ['#ff0000', '#ff1919','#ff3232', '#ff4c4c', '#ff6666', '#ff7f7f', '#ff9999', '#ffb2b2', '#ffcccc', '#ffe5e5', ]\n",
    "ddirector_revenue_totals_df.sort_values(by='Revenue', ascending=False).plot.pie(legend=False, subplots=True, autopct='%.2f%%', figsize=(8,8), colors=colors, explode=explode)\n",
    "plt.ylabel('')\n",
    "plt.title('Most Active Directors Revenue Contribution', weight='bold', fontsize=16)"
   ]
  },
  {
   "cell_type": "code",
   "execution_count": null,
   "metadata": {},
   "outputs": [],
   "source": [
    "#### In section 4.2 we saw that movies with 'Long' runtime tends to get more IMDB Rating. So Let's analyze the runtime levels for movies in 2016 ####"
   ]
  },
  {
   "cell_type": "code",
   "execution_count": 81,
   "metadata": {},
   "outputs": [
    {
     "data": {
      "text/plain": [
       "Short              116\n",
       "Medium              75\n",
       "Moderately Long     57\n",
       "Long                48\n",
       "Name: Runtime_levels, dtype: int64"
      ]
     },
     "execution_count": 81,
     "metadata": {},
     "output_type": "execute_result"
    }
   ],
   "source": [
    "movies.query('Year == 2016').Runtime_levels.value_counts()"
   ]
  },
  {
   "cell_type": "code",
   "execution_count": 82,
   "metadata": {},
   "outputs": [
    {
     "ename": "SyntaxError",
     "evalue": "invalid syntax (<ipython-input-82-9451ec2d04a6>, line 1)",
     "output_type": "error",
     "traceback": [
      "\u001b[0;36m  File \u001b[0;32m\"<ipython-input-82-9451ec2d04a6>\"\u001b[0;36m, line \u001b[0;32m1\u001b[0m\n\u001b[0;31m    <br>Let's compare the movie runtime levels in 2006<br>\u001b[0m\n\u001b[0m    ^\u001b[0m\n\u001b[0;31mSyntaxError\u001b[0m\u001b[0;31m:\u001b[0m invalid syntax\n"
     ]
    }
   ],
   "source": [
    "#### Let's compare the movie runtime levels in 2006 ####"
   ]
  },
  {
   "cell_type": "code",
   "execution_count": 83,
   "metadata": {},
   "outputs": [
    {
     "data": {
      "text/plain": [
       "Long               16\n",
       "Medium             16\n",
       "Moderately Long     9\n",
       "Short               3\n",
       "Name: Runtime_levels, dtype: int64"
      ]
     },
     "execution_count": 83,
     "metadata": {},
     "output_type": "execute_result"
    }
   ],
   "source": [
    "movies.query('Year == 2006').Runtime_levels.value_counts()"
   ]
  },
  {
   "cell_type": "code",
   "execution_count": null,
   "metadata": {},
   "outputs": [],
   "source": [
    "<a id=section4.5></a>\n",
    "4.5 What is the relationship between Revenue, Rating anfd Metascore of movies ?\n"
   ]
  },
  {
   "cell_type": "code",
   "execution_count": 101,
   "metadata": {},
   "outputs": [
    {
     "name": "stdout",
     "output_type": "stream",
     "text": [
      "Collecting seaborn\n",
      "  Downloading seaborn-0.9.1-py2.py3-none-any.whl (216 kB)\n",
      "\u001b[K     |████████████████████████████████| 216 kB 3.4 MB/s eta 0:00:01\n",
      "\u001b[?25hRequirement already satisfied, skipping upgrade: numpy>=1.10.4 in /home/nbuser/anaconda3_420/lib/python3.5/site-packages (from seaborn) (1.17.3)\n",
      "Requirement already satisfied, skipping upgrade: matplotlib>=1.5.3 in /home/nbuser/anaconda3_420/lib/python3.5/site-packages (from seaborn) (2.1.1)\n",
      "Requirement already satisfied, skipping upgrade: scipy>=0.17.1 in /home/nbuser/anaconda3_420/lib/python3.5/site-packages (from seaborn) (1.1.0)\n",
      "Requirement already satisfied, skipping upgrade: pandas>=0.17.1 in /home/nbuser/anaconda3_420/lib/python3.5/site-packages (from seaborn) (0.19.2)\n",
      "Requirement already satisfied, skipping upgrade: six>=1.10 in /home/nbuser/anaconda3_420/lib/python3.5/site-packages (from matplotlib>=1.5.3->seaborn) (1.11.0)\n",
      "Requirement already satisfied, skipping upgrade: python-dateutil>=2.0 in /home/nbuser/anaconda3_420/lib/python3.5/site-packages (from matplotlib>=1.5.3->seaborn) (2.8.1)\n",
      "Requirement already satisfied, skipping upgrade: pytz in /home/nbuser/anaconda3_420/lib/python3.5/site-packages (from matplotlib>=1.5.3->seaborn) (2016.6.1)\n",
      "Requirement already satisfied, skipping upgrade: cycler>=0.10 in /home/nbuser/anaconda3_420/lib/python3.5/site-packages (from matplotlib>=1.5.3->seaborn) (0.10.0)\n",
      "Requirement already satisfied, skipping upgrade: pyparsing!=2.0.4,!=2.1.2,!=2.1.6,>=2.0.1 in /home/nbuser/anaconda3_420/lib/python3.5/site-packages (from matplotlib>=1.5.3->seaborn) (2.1.4)\n",
      "Installing collected packages: seaborn\n",
      "  Attempting uninstall: seaborn\n",
      "    Found existing installation: seaborn 0.8\n",
      "    Uninstalling seaborn-0.8:\n",
      "      Successfully uninstalled seaborn-0.8\n",
      "Successfully installed seaborn-0.9.1\n"
     ]
    }
   ],
   "source": [
    "!pip install --upgrade seaborn \n"
   ]
  },
  {
   "cell_type": "code",
   "execution_count": 133,
   "metadata": {},
   "outputs": [],
   "source": [
    "#Create an array that contains the column names for what we want to compare the ratings to\n",
    "#in order to see if ratings have any correlation with other aspects of the movies\n",
    "ratings_comparisons = ['Revenue', 'Metascore', 'Runtime', 'Votes']"
   ]
  },
  {
   "cell_type": "code",
   "execution_count": 134,
   "metadata": {},
   "outputs": [
    {
     "data": {
      "image/png": "[encoded data removed]",
      "text/plain": [
       "<matplotlib.figure.Figure at 0x7efe32fb1668>"
      ]
     },
     "metadata": {},
     "output_type": "display_data"
    },
    {
     "data": {
      "image/png": "[encoded data removed]",
      "text/plain": [
       "<matplotlib.figure.Figure at 0x7efe32247940>"
      ]
     },
     "metadata": {},
     "output_type": "display_data"
    },
    {
     "data": {
      "image/png": "[encoded data removed]",
      "text/plain": [
       "<matplotlib.figure.Figure at 0x7efe3232c908>"
      ]
     },
     "metadata": {},
     "output_type": "display_data"
    },
    {
     "data": {
      "image/png": "[encoded data removed]",
      "text/plain": [
       "<matplotlib.figure.Figure at 0x7efe323ec080>"
      ]
     },
     "metadata": {},
     "output_type": "display_data"
    }
   ],
   "source": [
    "#Created a for loop that iterates through each of the comparisons made above and plots them separately\n",
    "for comparison in ratings_comparisons:\n",
    "    sns.jointplot(x='Rating', y=comparison, data=movies, alpha=0.5, color='r', size=10, space=0)"
   ]
  },
  {
   "cell_type": "code",
   "execution_count": null,
   "metadata": {},
   "outputs": [],
   "source": [
    "<br>\n",
    "5. Conclusion\n",
    "This section draws the conclusion from the exploration done on the dataset in Section 4.\n",
    "\n",
    "Director\n",
    "The director who has earned the highest average revenue is James Cameron. However he has directed only 1 movie in the 10 year period.\n",
    "Christopher Nolan's movies are the most popular among viewers as the average rating for his movies is the highest in the 10 year period. \n",
    "Critics liked Barry Jenkins's movies the most. He is closely followed by Kenneth Lonergan and Todd Haynes\n",
    "Looking at the Movie Industry Trend, most active directors are more favored.\n",
    "Among the most active directors, J J Abrams's movies earn more in terms of Average Revenue\n",
    "Christopher Nolan is the most popular active director in terms of Average Rating among people\n",
    "With respect to Directors who are most active, critics favor David Fincher in terms of Average Metascore.\n",
    "Runtime\n",
    "Movies with Long runtimes (> 123 minutes) earn more in terms of Revenue, Rating and Metascore. \n",
    "Revenue is dramatically high for movies with Long runtimes\n",
    "Genre\n",
    "As the Genre count increases in a movie, its Revenue, Rating and Metascore are on the rise.\n",
    "However, revenue is significantly high for movies with Genre count of 3.\n",
    "Adventure as Genre is a common factor for movies that brings in more Revenue, with the Genre combination of \"Adventure, Drama, Fantasy\" earning the highest Revenue\n",
    "The most popular Genre is Drama and the Genre combination of \"Animation, Drama, Fantasy\" earns the highest Rating.\n",
    "Again Drama is popular among Critics as well, with the Genre combination of \"Drama, Fantasy, War\" earning the highest Metascore.\n",
    "Industry Growth\n",
    "Industry is growing with respect to number of movies released and the total revenue gained year on year.\n",
    "However, the average revenue of movies year on year is showing a negative trend. This is probably because of increased competition and more movies released in the industry.\n",
    "The popularity of movies is also showing a negative trend year on year. This is probably because of more movies released with Genre combinations which are unpopular among viewers.\n",
    "Rating for movies in General\n",
    "From the correlation graph, it is clear that People and Critics rate movies in a similar manner.\n",
    "In general, movies with higher rating and metascore tend to earn more revenue as well.\n",
    "\n",
    "\n",
    "6. Actionable Insights\n",
    "This section describes the actions the Production company ABC should possibly take to achieve their goal as mentioned in the Problem Statement (Section 1). This is based on the conclusions drawn from the EDA done in Section 4.\n",
    "\n",
    "Produce multiple movies with best features - The movie industry is growing very fast. More movies are released year on year and the competition is very high and the revenue is distributed among many movies. It would not be a good idea to wait for that ONE BIG MOVIE like Avatar (by James Cameron) that brings highest Revenue, Rating and Metascore. So, produce more movies using the best features (explained below) for reaping the maximum benefits.\n",
    "Produce movies with active directors - those people who directs multiple moderately high budget movies. For instance, Christopher Nolan movies is certain to bring in more Revenue, Rating and Metascore.\n",
    "Produce movies that have Long runtimes - Runtime greater than 2 hrs.\n",
    "Produce movies with 3 Genre combination - Include a mix of Drama, Animation, Adventure, Sci-Fi, Fantasy. The movies should relate to audience with real life incidents, should move them to the edge of the seats and should enhance their imagination.\n",
    "Produce movies that will satisfy both People and Critics - These movies will earn higher Revenue more often than not.\n",
    "<br>"
   ]
  }
 ],
 "metadata": {
  "kernelspec": {
   "display_name": "Python 3",
   "language": "python",
   "name": "python3"
  },
  "language_info": {
   "codemirror_mode": {
    "name": "ipython",
    "version": 3
   },
   "file_extension": ".py",
   "mimetype": "text/x-python",
   "name": "python",
   "nbconvert_exporter": "python",
   "pygments_lexer": "ipython3",
   "version": "3.5.4"
  }
 },
 "nbformat": 4,
 "nbformat_minor": 2
}
