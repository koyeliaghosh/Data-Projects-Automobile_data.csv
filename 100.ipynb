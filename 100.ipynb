{
  "metadata": {
    "language_info": {
      "mimetype": "text/x-python",
      "nbconvert_exporter": "python",
      "name": "python",
      "file_extension": ".py",
      "version": "3.5.4",
      "pygments_lexer": "ipython3",
      "codemirror_mode": {
        "version": 3,
        "name": "ipython"
      }
    },
    "kernelspec": {
      "name": "python3",
      "display_name": "Python 3",
      "language": "python"
    }
  },
  "nbformat_minor": 2,
  "nbformat": 4,
  "cells": [
    {
      "cell_type": "code",
      "source": "## Table of Contents\n\n1. [Problem Statement](#section1)<br>\n2. [Background](#section2)<br>\n3. [Preparing the Data for analysis](#section3)<br>\n3.1 Examining the Dataset \n3.2 Pre-profiling \n3.3 Pre- Processing\n3.4 Post Profiling\n3.5 Checking for incorrect Datatypes\n\n4.Questions for Exploratory Data Analysis\n4.1 Find out the impact of directors on the movie\n 4.1.1 Does a particular director's movies receive higher revenue ",
      "metadata": {},
      "execution_count": null,
      "outputs": []
    },
    {
      "cell_type": "markdown",
      "source": "<a id=section1></a>\n## 1. Problem Statement\nssss\n",
      "metadata": {}
    },
    {
      "cell_type": "code",
      "source": "#Import the required packages\n\nimport pandas as pd\nimport matplotlib.pyplot as plt\nimport seaborn as sns\nimport numpy as np\n%matplotlib inline \nimport warnings \nwarnings.filterwarnings('ignore')",
      "metadata": {
        "trusted": true
      },
      "execution_count": 2,
      "outputs": []
    },
    {
      "cell_type": "code",
      "source": "#Read the data into Pandas DataFrame\nmovies=pd.read_csv('https://raw.githubusercontent.com/koyeliaghosh/Term-1/master/Data/Projects/1000%20movies%20data.csv')",
      "metadata": {
        "trusted": true
      },
      "execution_count": 17,
      "outputs": []
    },
    {
      "cell_type": "code",
      "source": "#Examine the head entries of the dataset \nmovies.head()",
      "metadata": {
        "trusted": true
      },
      "execution_count": 18,
      "outputs": [
        {
          "execution_count": 18,
          "output_type": "execute_result",
          "data": {
            "text/html": "<div>\n<table border=\"1\" class=\"dataframe\">\n  <thead>\n    <tr style=\"text-align: right;\">\n      <th></th>\n      <th>Rank</th>\n      <th>Title</th>\n      <th>Genre</th>\n      <th>Description</th>\n      <th>Director</th>\n      <th>Actors</th>\n      <th>Year</th>\n      <th>Runtime (Minutes)</th>\n      <th>Rating</th>\n      <th>Votes</th>\n      <th>Revenue (Millions)</th>\n      <th>Metascore</th>\n    </tr>\n  </thead>\n  <tbody>\n    <tr>\n      <th>0</th>\n      <td>1</td>\n      <td>Guardians of the Galaxy</td>\n      <td>Action,Adventure,Sci-Fi</td>\n      <td>A group of intergalactic criminals are forced ...</td>\n      <td>James Gunn</td>\n      <td>Chris Pratt, Vin Diesel, Bradley Cooper, Zoe S...</td>\n      <td>2014</td>\n      <td>121</td>\n      <td>8.1</td>\n      <td>757074</td>\n      <td>333.13</td>\n      <td>76.0</td>\n    </tr>\n    <tr>\n      <th>1</th>\n      <td>2</td>\n      <td>Prometheus</td>\n      <td>Adventure,Mystery,Sci-Fi</td>\n      <td>Following clues to the origin of mankind, a te...</td>\n      <td>Ridley Scott</td>\n      <td>Noomi Rapace, Logan Marshall-Green, Michael Fa...</td>\n      <td>2012</td>\n      <td>124</td>\n      <td>7.0</td>\n      <td>485820</td>\n      <td>126.46</td>\n      <td>65.0</td>\n    </tr>\n    <tr>\n      <th>2</th>\n      <td>3</td>\n      <td>Split</td>\n      <td>Horror,Thriller</td>\n      <td>Three girls are kidnapped by a man with a diag...</td>\n      <td>M. Night Shyamalan</td>\n      <td>James McAvoy, Anya Taylor-Joy, Haley Lu Richar...</td>\n      <td>2016</td>\n      <td>117</td>\n      <td>7.3</td>\n      <td>157606</td>\n      <td>138.12</td>\n      <td>62.0</td>\n    </tr>\n    <tr>\n      <th>3</th>\n      <td>4</td>\n      <td>Sing</td>\n      <td>Animation,Comedy,Family</td>\n      <td>In a city of humanoid animals, a hustling thea...</td>\n      <td>Christophe Lourdelet</td>\n      <td>Matthew McConaughey,Reese Witherspoon, Seth Ma...</td>\n      <td>2016</td>\n      <td>108</td>\n      <td>7.2</td>\n      <td>60545</td>\n      <td>270.32</td>\n      <td>59.0</td>\n    </tr>\n    <tr>\n      <th>4</th>\n      <td>5</td>\n      <td>Suicide Squad</td>\n      <td>Action,Adventure,Fantasy</td>\n      <td>A secret government agency recruits some of th...</td>\n      <td>David Ayer</td>\n      <td>Will Smith, Jared Leto, Margot Robbie, Viola D...</td>\n      <td>2016</td>\n      <td>123</td>\n      <td>6.2</td>\n      <td>393727</td>\n      <td>325.02</td>\n      <td>40.0</td>\n    </tr>\n  </tbody>\n</table>\n</div>",
            "text/plain": "   Rank                    Title                     Genre  \\\n0     1  Guardians of the Galaxy   Action,Adventure,Sci-Fi   \n1     2               Prometheus  Adventure,Mystery,Sci-Fi   \n2     3                    Split           Horror,Thriller   \n3     4                     Sing   Animation,Comedy,Family   \n4     5            Suicide Squad  Action,Adventure,Fantasy   \n\n                                         Description              Director  \\\n0  A group of intergalactic criminals are forced ...            James Gunn   \n1  Following clues to the origin of mankind, a te...          Ridley Scott   \n2  Three girls are kidnapped by a man with a diag...    M. Night Shyamalan   \n3  In a city of humanoid animals, a hustling thea...  Christophe Lourdelet   \n4  A secret government agency recruits some of th...            David Ayer   \n\n                                              Actors  Year  Runtime (Minutes)  \\\n0  Chris Pratt, Vin Diesel, Bradley Cooper, Zoe S...  2014                121   \n1  Noomi Rapace, Logan Marshall-Green, Michael Fa...  2012                124   \n2  James McAvoy, Anya Taylor-Joy, Haley Lu Richar...  2016                117   \n3  Matthew McConaughey,Reese Witherspoon, Seth Ma...  2016                108   \n4  Will Smith, Jared Leto, Margot Robbie, Viola D...  2016                123   \n\n   Rating   Votes  Revenue (Millions)  Metascore  \n0     8.1  757074              333.13       76.0  \n1     7.0  485820              126.46       65.0  \n2     7.3  157606              138.12       62.0  \n3     7.2   60545              270.32       59.0  \n4     6.2  393727              325.02       40.0  "
          },
          "metadata": {}
        }
      ]
    },
    {
      "cell_type": "code",
      "source": "#Find out the total rows and columns of the DataFrame \nmovies.shape",
      "metadata": {
        "trusted": true
      },
      "execution_count": 19,
      "outputs": [
        {
          "execution_count": 19,
          "output_type": "execute_result",
          "data": {
            "text/plain": "(1000, 12)"
          },
          "metadata": {}
        }
      ]
    },
    {
      "cell_type": "code",
      "source": "#check for number of unique values for the column 'Title'\nmovies.Title.nunique()",
      "metadata": {
        "trusted": true
      },
      "execution_count": 20,
      "outputs": [
        {
          "execution_count": 20,
          "output_type": "execute_result",
          "data": {
            "text/plain": "999"
          },
          "metadata": {}
        }
      ]
    },
    {
      "cell_type": "code",
      "source": "<br> Why is unique \"Titles\"  count not equal to the number of rows of the dataset.Are there any duplicate movies <br>",
      "metadata": {
        "trusted": true
      },
      "execution_count": 21,
      "outputs": [
        {
          "ename": "SyntaxError",
          "evalue": "invalid syntax (<ipython-input-21-c43717b6b0ec>, line 1)",
          "traceback": [
            "\u001b[0;36m  File \u001b[0;32m\"<ipython-input-21-c43717b6b0ec>\"\u001b[0;36m, line \u001b[0;32m1\u001b[0m\n\u001b[0;31m    <br> Why is unique \"Titles\"  count not equal to the number of rows of the dataset.Are there any duplicate movies <br>\u001b[0m\n\u001b[0m    ^\u001b[0m\n\u001b[0;31mSyntaxError\u001b[0m\u001b[0;31m:\u001b[0m invalid syntax\n"
          ],
          "output_type": "error"
        }
      ]
    },
    {
      "cell_type": "code",
      "source": "#Check for duplicate values in the column 'Title'\nmovies.Title.duplicated().any()",
      "metadata": {
        "trusted": true
      },
      "execution_count": 25,
      "outputs": [
        {
          "execution_count": 25,
          "output_type": "execute_result",
          "data": {
            "text/plain": "True"
          },
          "metadata": {}
        }
      ]
    },
    {
      "cell_type": "code",
      "source": "#Find out the movies with Duplicate 'Title'\nmovies.loc[movies.Title.duplicated(keep =False)]",
      "metadata": {
        "trusted": true
      },
      "execution_count": 26,
      "outputs": [
        {
          "execution_count": 26,
          "output_type": "execute_result",
          "data": {
            "text/html": "<div>\n<table border=\"1\" class=\"dataframe\">\n  <thead>\n    <tr style=\"text-align: right;\">\n      <th></th>\n      <th>Rank</th>\n      <th>Title</th>\n      <th>Genre</th>\n      <th>Description</th>\n      <th>Director</th>\n      <th>Actors</th>\n      <th>Year</th>\n      <th>Runtime (Minutes)</th>\n      <th>Rating</th>\n      <th>Votes</th>\n      <th>Revenue (Millions)</th>\n      <th>Metascore</th>\n    </tr>\n  </thead>\n  <tbody>\n    <tr>\n      <th>239</th>\n      <td>240</td>\n      <td>The Host</td>\n      <td>Action,Adventure,Romance</td>\n      <td>When an unseen enemy threatens mankind by taki...</td>\n      <td>Andrew Niccol</td>\n      <td>Saoirse Ronan, Max Irons, Jake Abel, Diane Kruger</td>\n      <td>2013</td>\n      <td>125</td>\n      <td>5.9</td>\n      <td>96852</td>\n      <td>26.62</td>\n      <td>35.0</td>\n    </tr>\n    <tr>\n      <th>632</th>\n      <td>633</td>\n      <td>The Host</td>\n      <td>Comedy,Drama,Horror</td>\n      <td>A monster emerges from Seoul's Han River and f...</td>\n      <td>Bong Joon Ho</td>\n      <td>Kang-ho Song, Hee-Bong Byun, Hae-il Park, Doon...</td>\n      <td>2006</td>\n      <td>120</td>\n      <td>7.0</td>\n      <td>73491</td>\n      <td>2.20</td>\n      <td>85.0</td>\n    </tr>\n  </tbody>\n</table>\n</div>",
            "text/plain": "     Rank     Title                     Genre  \\\n239   240  The Host  Action,Adventure,Romance   \n632   633  The Host       Comedy,Drama,Horror   \n\n                                           Description       Director  \\\n239  When an unseen enemy threatens mankind by taki...  Andrew Niccol   \n632  A monster emerges from Seoul's Han River and f...   Bong Joon Ho   \n\n                                                Actors  Year  \\\n239  Saoirse Ronan, Max Irons, Jake Abel, Diane Kruger  2013   \n632  Kang-ho Song, Hee-Bong Byun, Hae-il Park, Doon...  2006   \n\n     Runtime (Minutes)  Rating  Votes  Revenue (Millions)  Metascore  \n239                125     5.9  96852               26.62       35.0  \n632                120     7.0  73491                2.20       85.0  "
          },
          "metadata": {}
        }
      ]
    },
    {
      "cell_type": "code",
      "source": "<br> There are no duplicate movies.The movie with Title\"The Host\" was released on 2006 and 2013. So they are 2 different movies",
      "metadata": {
        "trusted": true
      },
      "execution_count": 27,
      "outputs": [
        {
          "ename": "SyntaxError",
          "evalue": "invalid syntax (<ipython-input-27-3dc290a809d9>, line 1)",
          "traceback": [
            "\u001b[0;36m  File \u001b[0;32m\"<ipython-input-27-3dc290a809d9>\"\u001b[0;36m, line \u001b[0;32m1\u001b[0m\n\u001b[0;31m    <br> There are no duplicate movies.The movie with Title\"The Host\" was released on 2006 and 2013. So they are 2 different movies\u001b[0m\n\u001b[0m    ^\u001b[0m\n\u001b[0;31mSyntaxError\u001b[0m\u001b[0;31m:\u001b[0m invalid syntax\n"
          ],
          "output_type": "error"
        }
      ]
    },
    {
      "cell_type": "code",
      "source": "#Count the number of missing values in each column \nmovies.isnull().sum()",
      "metadata": {
        "trusted": true
      },
      "execution_count": 28,
      "outputs": [
        {
          "execution_count": 28,
          "output_type": "execute_result",
          "data": {
            "text/plain": "Rank                    0\nTitle                   0\nGenre                   0\nDescription             0\nDirector                0\nActors                  0\nYear                    0\nRuntime (Minutes)       0\nRating                  0\nVotes                   0\nRevenue (Millions)    128\nMetascore              64\ndtype: int64"
          },
          "metadata": {}
        }
      ]
    },
    {
      "cell_type": "code",
      "source": "def missing_value_pct(series):\"\"\"\nReturns the missing value percentage of a series\n\"\"\"",
      "metadata": {},
      "execution_count": null,
      "outputs": []
    }
  ]
}